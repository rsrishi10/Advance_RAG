{
 "cells": [
  {
   "cell_type": "code",
   "execution_count": 1,
   "metadata": {},
   "outputs": [],
   "source": [
    "import warnings\n",
    "warnings.filterwarnings('ignore')"
   ]
  },
  {
   "cell_type": "code",
   "execution_count": 2,
   "metadata": {},
   "outputs": [],
   "source": [
    "import utils\n",
    "\n",
    "import os\n",
    "import openai\n",
    "openai.api_key = \"\""
   ]
  },
  {
   "cell_type": "code",
   "execution_count": 4,
   "metadata": {},
   "outputs": [],
   "source": [
    "from llama_index.core import SimpleDirectoryReader\n",
    "\n",
    "documents = SimpleDirectoryReader(\n",
    "    input_files=[\"./eBook-How-to-Build-a-Career-in-AI.pdf\"]\n",
    ").load_data()"
   ]
  },
  {
   "cell_type": "code",
   "execution_count": 5,
   "metadata": {},
   "outputs": [],
   "source": [
    "from llama_index.core import Document\n",
    "\n",
    "document = Document(text=\"\\n\\n\".join([doc.text for doc in documents]))"
   ]
  },
  {
   "cell_type": "markdown",
   "metadata": {},
   "source": [
    "## Auto-merging retrieval setup"
   ]
  },
  {
   "cell_type": "code",
   "execution_count": 6,
   "metadata": {},
   "outputs": [],
   "source": [
    "from llama_index.core.node_parser import HierarchicalNodeParser\n",
    "\n",
    "# create the hierarchical node parser w/ default settings\n",
    "node_parser = HierarchicalNodeParser.from_defaults(\n",
    "    chunk_sizes=[2048, 512, 128]\n",
    ")"
   ]
  },
  {
   "cell_type": "code",
   "execution_count": 7,
   "metadata": {},
   "outputs": [],
   "source": [
    "nodes = node_parser.get_nodes_from_documents([document])"
   ]
  },
  {
   "cell_type": "code",
   "execution_count": 8,
   "metadata": {},
   "outputs": [
    {
     "name": "stdout",
     "output_type": "stream",
     "text": [
      "Of course, I also encourage learning driven by curiosity. If something interests you, go ahead \n",
      "and learn it regardless of how useful it might turn out to be!  Maybe this will lead to a creative \n",
      "spark or technical breakthrough.\n",
      "How much math do you need to know to be a machine learning engineer?\n"
     ]
    }
   ],
   "source": [
    "from llama_index.core.node_parser import get_leaf_nodes\n",
    "\n",
    "leaf_nodes = get_leaf_nodes(nodes)\n",
    "print(leaf_nodes[30].text)"
   ]
  },
  {
   "cell_type": "code",
   "execution_count": 9,
   "metadata": {},
   "outputs": [
    {
     "name": "stdout",
     "output_type": "stream",
     "text": [
      "On some days, maybe you’ll end up studying for an \n",
      "hour or longer.\n",
      "\n",
      "PAGE 12\n",
      "Should You \n",
      "Learn Math to \n",
      "Get a Job in AI? \n",
      "CHAPTER 3\n",
      "LEARNING\n",
      "\n",
      "PAGE 13\n",
      "Should you Learn Math to Get a Job in AI? CHAPTER 3\n",
      "Is math a foundational skill for AI? It’s always nice to know more math! But there’s so much to \n",
      "learn that, realistically, it’s necessary to prioritize. Here’s how you might go about strengthening \n",
      "your math background.\n",
      "To figure out what’s important to know, I find it useful to ask what you need to know to make \n",
      "the decisions required for the work you want to do. At DeepLearning.AI, we frequently ask, \n",
      "“What does someone need to know to accomplish their goals?” The goal might be building a \n",
      "machine learning model, architecting a system, or passing a job interview.\n",
      "Understanding the math behind algorithms you use is often helpful, since it enables you to \n",
      "debug them. But the depth of knowledge that’s useful changes over time. As machine learning \n",
      "techniques mature and become more reliable and turnkey, they require less debugging, and a \n",
      "shallower understanding of the math involved may be sufficient to make them work.\n",
      "For instance, in an earlier era of machine learning, linear algebra libraries for solving linear \n",
      "systems of equations (for linear regression) were immature. I had to understand how these \n",
      "libraries worked so I could choose among different libraries and avoid numerical roundoff \n",
      "pitfalls. But this became less important as numerical linear algebra libraries matured.\n",
      "Deep learning is still an emerging technology, so when you train a neural network and the \n",
      "optimization algorithm struggles to converge, understanding the math behind gradient \n",
      "descent, momentum, and the Adam optimization algorithm will help you make better decisions. \n",
      "Similarly, if your neural network does something funny — say, it makes bad predictions on \n",
      "images of a certain resolution, but not others — understanding the math behind neural network \n",
      "architectures puts you in a better position to figure out what to do.\n",
      "Of course, I also encourage learning driven by curiosity. If something interests you, go ahead \n",
      "and learn it regardless of how useful it might turn out to be!  Maybe this will lead to a creative \n",
      "spark or technical breakthrough.\n",
      "How much math do you need to know to be a machine learning engineer?\n"
     ]
    }
   ],
   "source": [
    "nodes_by_id = {node.node_id: node for node in nodes}\n",
    "\n",
    "parent_node = nodes_by_id[leaf_nodes[30].parent_node.node_id]\n",
    "print(parent_node.text)"
   ]
  },
  {
   "cell_type": "markdown",
   "metadata": {},
   "source": [
    "### Building the index"
   ]
  },
  {
   "cell_type": "code",
   "execution_count": 10,
   "metadata": {},
   "outputs": [],
   "source": [
    "from llama_index.llms.openai import OpenAI\n",
    "\n",
    "llm = OpenAI(model=\"gpt-3.5-turbo\", temperature=0.1)"
   ]
  },
  {
   "cell_type": "code",
   "execution_count": 13,
   "metadata": {},
   "outputs": [],
   "source": [
    "from llama_index.core import Settings, VectorStoreIndex, StorageContext\n",
    "from llama_index.embeddings.huggingface import HuggingFaceEmbedding\n",
    "\n",
    "embed_model = HuggingFaceEmbedding(model_name=\"BAAI/bge-small-en-v1.5\")\n",
    "# Set the global settings\n",
    "Settings.llm = llm\n",
    "Settings.embed_model = embed_model\n",
    "Settings.node_parser = node_parser\n",
    "# Create the storage context and add documents\n",
    "storage_context = StorageContext.from_defaults()\n",
    "storage_context.docstore.add_documents(nodes)\n",
    "# Create the VectorStoreIndex\n",
    "automerging_index = VectorStoreIndex(\n",
    "    leaf_nodes, storage_context=storage_context\n",
    ")\n",
    "# Persist the index\n",
    "automerging_index.storage_context.persist(persist_dir=\"./merging_index\")"
   ]
  },
  {
   "cell_type": "code",
   "execution_count": 14,
   "metadata": {},
   "outputs": [],
   "source": [
    "from llama_index.core import Settings, VectorStoreIndex, StorageContext, load_index_from_storage\n",
    "\n",
    "if not os.path.exists(\"./merging_index\"):\n",
    "    storage_context = StorageContext.from_defaults()\n",
    "    storage_context.docstore.add_documents(nodes)\n",
    "    automerging_index = VectorStoreIndex(\n",
    "        leaf_nodes,\n",
    "        storage_context=storage_context\n",
    "    )\n",
    "    automerging_index.storage_context.persist(persist_dir=\"./merging_index\")\n",
    "else:\n",
    "    storage_context = StorageContext.from_defaults(persist_dir=\"./merging_index\")\n",
    "    automerging_index = load_index_from_storage(storage_context)"
   ]
  },
  {
   "cell_type": "markdown",
   "metadata": {},
   "source": [
    "### Defining the retriever and running the query engine"
   ]
  },
  {
   "cell_type": "code",
   "execution_count": 15,
   "metadata": {},
   "outputs": [],
   "source": [
    "from llama_index.core.postprocessor import SentenceTransformerRerank\n",
    "from llama_index.core.retrievers import AutoMergingRetriever\n",
    "from llama_index.core.query_engine import RetrieverQueryEngine\n",
    "\n",
    "\n",
    "automerging_retriever = automerging_index.as_retriever(\n",
    "    similarity_top_k=12\n",
    ")\n",
    "\n",
    "retriever = AutoMergingRetriever(\n",
    "    automerging_retriever, \n",
    "    automerging_index.storage_context, \n",
    "    verbose=True\n",
    ")\n",
    "\n",
    "rerank = SentenceTransformerRerank(top_n=6, model=\"BAAI/bge-reranker-base\")\n",
    "\n",
    "auto_merging_engine = RetrieverQueryEngine.from_args(\n",
    "    automerging_retriever, node_postprocessors=[rerank]\n",
    ")"
   ]
  },
  {
   "cell_type": "code",
   "execution_count": 16,
   "metadata": {},
   "outputs": [],
   "source": [
    "auto_merging_response = auto_merging_engine.query(\n",
    "    \"What is the importance of networking in AI?\"\n",
    ")"
   ]
  },
  {
   "cell_type": "code",
   "execution_count": 18,
   "metadata": {},
   "outputs": [
    {
     "data": {
      "text/markdown": [
       "**`Final Response:`** Networking in AI is crucial as it can provide valuable information, help, and advice when needed. Building a strong professional network can propel individuals forward in their careers by connecting them with potential employers and opportunities. Additionally, networking allows individuals to meet more people, make friends, and be part of a supportive community, which can be beneficial for personal and professional growth in the field of AI."
      ],
      "text/plain": [
       "<IPython.core.display.Markdown object>"
      ]
     },
     "metadata": {},
     "output_type": "display_data"
    }
   ],
   "source": [
    "from llama_index.core.response.notebook_utils import display_response\n",
    "\n",
    "display_response(auto_merging_response)"
   ]
  },
  {
   "cell_type": "markdown",
   "metadata": {},
   "source": [
    "### Putting it all Together"
   ]
  },
  {
   "cell_type": "code",
   "execution_count": 24,
   "metadata": {},
   "outputs": [],
   "source": [
    "\n",
    "def build_automerging_index(\n",
    "    documents,\n",
    "    llm,\n",
    "    embed_model_name=\"BAAI/bge-small-en-v1.5\",\n",
    "    save_dir=\"merging_index\",\n",
    "    chunk_sizes=None,\n",
    "):\n",
    "    chunk_sizes = chunk_sizes or [2048, 512, 128]\n",
    "    node_parser = HierarchicalNodeParser.from_defaults(chunk_sizes=chunk_sizes)\n",
    "    nodes = node_parser.get_nodes_from_documents(documents)\n",
    "    leaf_nodes = get_leaf_nodes(nodes)\n",
    "    # Configure the embedding model\n",
    "    embed_model = HuggingFaceEmbedding(model_name=embed_model_name)\n",
    "    # Set the global settings\n",
    "    Settings.llm = llm\n",
    "    Settings.embed_model = embed_model\n",
    "    storage_context = StorageContext.from_defaults()\n",
    "    storage_context.docstore.add_documents(nodes)\n",
    "    if not os.path.exists(save_dir):\n",
    "        automerging_index = VectorStoreIndex(\n",
    "            leaf_nodes, storage_context=storage_context\n",
    "        )\n",
    "        automerging_index.storage_context.persist(persist_dir=save_dir)\n",
    "    else:\n",
    "        storage_context = StorageContext.from_defaults(persist_dir=save_dir)\n",
    "        automerging_index = load_index_from_storage(storage_context)\n",
    "    return automerging_index\n",
    "def get_automerging_query_engine(\n",
    "    automerging_index,\n",
    "    similarity_top_k=12,\n",
    "    rerank_top_n=6,\n",
    "):\n",
    "    base_retriever = automerging_index.as_retriever(similarity_top_k=similarity_top_k)\n",
    "    retriever = AutoMergingRetriever(\n",
    "        base_retriever, automerging_index.storage_context, verbose=True\n",
    "    )\n",
    "    rerank = SentenceTransformerRerank(\n",
    "        top_n=rerank_top_n, model=\"BAAI/bge-reranker-base\"\n",
    "    )\n",
    "    auto_merging_engine = RetrieverQueryEngine.from_args(\n",
    "        retriever, node_postprocessors=[rerank]\n",
    "    )\n",
    "    return auto_merging_engine"
   ]
  },
  {
   "cell_type": "code",
   "execution_count": 25,
   "metadata": {},
   "outputs": [],
   "source": [
    "from llama_index.llms.openai import OpenAI\n",
    "\n",
    "index = build_automerging_index(\n",
    "    [document],\n",
    "    llm=OpenAI(model=\"gpt-3.5-turbo\", temperature=0.1),\n",
    "    save_dir=\"./merging_index\",\n",
    ")\n"
   ]
  },
  {
   "cell_type": "code",
   "execution_count": 26,
   "metadata": {},
   "outputs": [],
   "source": [
    "query_engine = get_automerging_query_engine(index, similarity_top_k=6)"
   ]
  },
  {
   "cell_type": "markdown",
   "metadata": {},
   "source": [
    "## TruLens Evaluation"
   ]
  },
  {
   "cell_type": "code",
   "execution_count": 27,
   "metadata": {},
   "outputs": [
    {
     "name": "stdout",
     "output_type": "stream",
     "text": [
      "🦑 Initialized with db url sqlite:///default.sqlite .\n",
      "🛑 Secret keys may be written to the database. See the `database_redact_keys` option of `TruSession` to prevent this.\n"
     ]
    },
    {
     "name": "stderr",
     "output_type": "stream",
     "text": [
      "Updating app_name and app_version in apps table: 0it [00:00, ?it/s]\n",
      "Updating app_id in records table: 0it [00:00, ?it/s]\n",
      "Updating app_json in apps table: 0it [00:00, ?it/s]\n"
     ]
    }
   ],
   "source": [
    "from trulens_eval import Tru\n",
    "\n",
    "Tru().reset_database()"
   ]
  },
  {
   "cell_type": "markdown",
   "metadata": {},
   "source": [
    "### Two layers"
   ]
  },
  {
   "cell_type": "code",
   "execution_count": 31,
   "metadata": {},
   "outputs": [],
   "source": [
    "auto_merging_index_0 = build_automerging_index(\n",
    "    documents,\n",
    "    llm=OpenAI(model=\"gpt-3.5-turbo\", temperature=0.1),\n",
    "    embed_model_name=\"BAAI/bge-small-en-v1.5\",\n",
    "    save_dir=\"merging_index_0\",\n",
    "    chunk_sizes=[2048,512],\n",
    ")"
   ]
  },
  {
   "cell_type": "code",
   "execution_count": 32,
   "metadata": {},
   "outputs": [],
   "source": [
    "auto_merging_engine_0 = get_automerging_query_engine(\n",
    "    auto_merging_index_0,\n",
    "    similarity_top_k=12,\n",
    "    rerank_top_n=6,\n",
    ")"
   ]
  },
  {
   "cell_type": "code",
   "execution_count": 35,
   "metadata": {},
   "outputs": [
    {
     "name": "stdout",
     "output_type": "stream",
     "text": [
      "✅ In Answer Relevance, input prompt will be set to __record__.main_input or `Select.RecordInput` .\n",
      "✅ In Answer Relevance, input response will be set to __record__.main_output or `Select.RecordOutput` .\n",
      "✅ In Context Relevance, input prompt will be set to __record__.main_input or `Select.RecordInput` .\n",
      "✅ In Context Relevance, input response will be set to __record__.calls[-1].rets.source_nodes[:].node.text .\n",
      "✅ In Groundedness, input source will be set to __record__.calls[-1].rets.source_nodes[:].node.text.collect() .\n",
      "✅ In Groundedness, input statement will be set to __record__.main_output or `Select.RecordOutput` .\n",
      "instrumenting <class 'llama_index.embeddings.huggingface.base.HuggingFaceEmbedding'> for base <class 'llama_index.embeddings.huggingface.base.HuggingFaceEmbedding'>\n",
      "instrumenting <class 'llama_index.embeddings.huggingface.base.HuggingFaceEmbedding'> for base <class 'llama_index.core.base.embeddings.base.BaseEmbedding'>\n",
      "instrumenting <class 'llama_index.embeddings.huggingface.base.HuggingFaceEmbedding'> for base <class 'llama_index.core.schema.TransformComponent'>\n",
      "instrumenting <class 'llama_index.embeddings.huggingface.base.HuggingFaceEmbedding'> for base <class 'llama_index.core.schema.BaseComponent'>\n",
      "instrumenting <class 'llama_index.embeddings.huggingface.base.HuggingFaceEmbedding'> for base <class 'pydantic.main.BaseModel'>\n",
      "instrumenting <class 'llama_index.embeddings.huggingface.base.HuggingFaceEmbedding'> for base <class 'llama_index.core.instrumentation.DispatcherSpanMixin'>\n",
      "instrumenting <class 'llama_index.embeddings.huggingface.base.HuggingFaceEmbedding'> for base <class 'abc.ABC'>\n",
      "instrumenting <class 'llama_index.embeddings.huggingface.base.HuggingFaceEmbedding'> for base <class 'object'>\n",
      "skipping base <class 'llama_index.core.callbacks.base.CallbackManager'> because of class\n",
      "instrumenting <class 'llama_index.core.callbacks.base.CallbackManager'> for base <class 'llama_index.core.callbacks.base_handler.BaseCallbackHandler'>\n",
      "instrumenting <class 'llama_index.core.callbacks.base.CallbackManager'> for base <class 'abc.ABC'>\n",
      "instrumenting <class 'llama_index.core.callbacks.base.CallbackManager'> for base <class 'object'>\n",
      "instrumenting <class 'tuple'> for base <class 'tuple'>\n",
      "instrumenting <class 'tuple'> for base <class 'object'>\n",
      "instrumenting <class 'pydantic.fields.FieldInfo'> for base <class 'pydantic.fields.FieldInfo'>\n",
      "instrumenting <class 'pydantic.fields.FieldInfo'> for base <class 'pydantic._internal._repr.Representation'>\n",
      "instrumenting <class 'pydantic.fields.FieldInfo'> for base <class 'object'>\n",
      "instrumenting <class 'llama_index.core.vector_stores.simple.SimpleVectorStore'> for base <class 'llama_index.core.vector_stores.simple.SimpleVectorStore'>\n",
      "instrumenting <class 'llama_index.core.vector_stores.simple.SimpleVectorStore'> for base <class 'llama_index.core.vector_stores.types.BasePydanticVectorStore'>\n",
      "instrumenting <class 'llama_index.core.vector_stores.simple.SimpleVectorStore'> for base <class 'llama_index.core.schema.BaseComponent'>\n",
      "instrumenting <class 'llama_index.core.vector_stores.simple.SimpleVectorStore'> for base <class 'pydantic.main.BaseModel'>\n",
      "instrumenting <class 'llama_index.core.vector_stores.simple.SimpleVectorStore'> for base <class 'abc.ABC'>\n",
      "instrumenting <class 'llama_index.core.vector_stores.simple.SimpleVectorStore'> for base <class 'object'>\n",
      "skipping base <class 'llama_index.core.vector_stores.simple.SimpleVectorStoreData'> because of class\n",
      "instrumenting <class 'llama_index.core.vector_stores.simple.SimpleVectorStoreData'> for base <class 'dataclasses_json.api.DataClassJsonMixin'>\n",
      "instrumenting <class 'llama_index.core.vector_stores.simple.SimpleVectorStoreData'> for base <class 'abc.ABC'>\n",
      "instrumenting <class 'llama_index.core.vector_stores.simple.SimpleVectorStoreData'> for base <class 'object'>\n",
      "instrumenting <class 'llama_index.core.indices.vector_store.base.VectorStoreIndex'> for base <class 'llama_index.core.indices.vector_store.base.VectorStoreIndex'>\n",
      "instrumenting <class 'llama_index.core.indices.vector_store.base.VectorStoreIndex'> for base <class 'llama_index.core.indices.base.BaseIndex'>\n",
      "instrumenting <class 'llama_index.core.indices.vector_store.base.VectorStoreIndex'> for base <class 'typing.Generic'>\n",
      "instrumenting <class 'llama_index.core.indices.vector_store.base.VectorStoreIndex'> for base <class 'abc.ABC'>\n",
      "instrumenting <class 'llama_index.core.indices.vector_store.base.VectorStoreIndex'> for base <class 'object'>\n",
      "skipping base <class 'llama_index.core.graph_stores.simple.SimpleGraphStore'> because of class\n",
      "instrumenting <class 'llama_index.core.graph_stores.simple.SimpleGraphStore'> for base <class 'llama_index.core.graph_stores.types.GraphStore'>\n",
      "instrumenting <class 'llama_index.core.graph_stores.simple.SimpleGraphStore'> for base <class 'typing.Protocol'>\n",
      "instrumenting <class 'llama_index.core.graph_stores.simple.SimpleGraphStore'> for base <class 'typing.Generic'>\n",
      "instrumenting <class 'llama_index.core.graph_stores.simple.SimpleGraphStore'> for base <class 'object'>\n",
      "instrumenting <class 'llama_index.core.node_parser.relational.hierarchical.HierarchicalNodeParser'> for base <class 'llama_index.core.node_parser.relational.hierarchical.HierarchicalNodeParser'>\n",
      "instrumenting <class 'llama_index.core.node_parser.relational.hierarchical.HierarchicalNodeParser'> for base <class 'llama_index.core.node_parser.interface.NodeParser'>\n",
      "instrumenting <class 'llama_index.core.node_parser.relational.hierarchical.HierarchicalNodeParser'> for base <class 'llama_index.core.schema.TransformComponent'>\n",
      "instrumenting <class 'llama_index.core.node_parser.relational.hierarchical.HierarchicalNodeParser'> for base <class 'llama_index.core.schema.BaseComponent'>\n",
      "instrumenting <class 'llama_index.core.node_parser.relational.hierarchical.HierarchicalNodeParser'> for base <class 'pydantic.main.BaseModel'>\n",
      "instrumenting <class 'llama_index.core.node_parser.relational.hierarchical.HierarchicalNodeParser'> for base <class 'llama_index.core.instrumentation.DispatcherSpanMixin'>\n",
      "instrumenting <class 'llama_index.core.node_parser.relational.hierarchical.HierarchicalNodeParser'> for base <class 'abc.ABC'>\n",
      "instrumenting <class 'llama_index.core.node_parser.relational.hierarchical.HierarchicalNodeParser'> for base <class 'object'>\n",
      "instrumenting <class 'llama_index.core.node_parser.text.sentence.SentenceSplitter'> for base <class 'llama_index.core.node_parser.text.sentence.SentenceSplitter'>\n",
      "instrumenting <class 'llama_index.core.node_parser.text.sentence.SentenceSplitter'> for base <class 'llama_index.core.node_parser.interface.MetadataAwareTextSplitter'>\n",
      "instrumenting <class 'llama_index.core.node_parser.text.sentence.SentenceSplitter'> for base <class 'llama_index.core.node_parser.interface.TextSplitter'>\n",
      "instrumenting <class 'llama_index.core.node_parser.text.sentence.SentenceSplitter'> for base <class 'llama_index.core.node_parser.interface.NodeParser'>\n",
      "instrumenting <class 'llama_index.core.node_parser.text.sentence.SentenceSplitter'> for base <class 'llama_index.core.schema.TransformComponent'>\n",
      "instrumenting <class 'llama_index.core.node_parser.text.sentence.SentenceSplitter'> for base <class 'llama_index.core.schema.BaseComponent'>\n",
      "instrumenting <class 'llama_index.core.node_parser.text.sentence.SentenceSplitter'> for base <class 'pydantic.main.BaseModel'>\n",
      "instrumenting <class 'llama_index.core.node_parser.text.sentence.SentenceSplitter'> for base <class 'llama_index.core.instrumentation.DispatcherSpanMixin'>\n",
      "instrumenting <class 'llama_index.core.node_parser.text.sentence.SentenceSplitter'> for base <class 'abc.ABC'>\n",
      "instrumenting <class 'llama_index.core.node_parser.text.sentence.SentenceSplitter'> for base <class 'object'>\n",
      "skipping base <class 'llama_index.core.callbacks.base.CallbackManager'> because of class\n",
      "instrumenting <class 'llama_index.core.callbacks.base.CallbackManager'> for base <class 'llama_index.core.callbacks.base_handler.BaseCallbackHandler'>\n",
      "instrumenting <class 'llama_index.core.callbacks.base.CallbackManager'> for base <class 'abc.ABC'>\n",
      "instrumenting <class 'llama_index.core.callbacks.base.CallbackManager'> for base <class 'object'>\n",
      "instrumenting <class 'llama_index.core.node_parser.text.sentence.SentenceSplitter'> for base <class 'llama_index.core.node_parser.text.sentence.SentenceSplitter'>\n",
      "instrumenting <class 'llama_index.core.node_parser.text.sentence.SentenceSplitter'> for base <class 'llama_index.core.node_parser.interface.MetadataAwareTextSplitter'>\n",
      "instrumenting <class 'llama_index.core.node_parser.text.sentence.SentenceSplitter'> for base <class 'llama_index.core.node_parser.interface.TextSplitter'>\n",
      "instrumenting <class 'llama_index.core.node_parser.text.sentence.SentenceSplitter'> for base <class 'llama_index.core.node_parser.interface.NodeParser'>\n",
      "instrumenting <class 'llama_index.core.node_parser.text.sentence.SentenceSplitter'> for base <class 'llama_index.core.schema.TransformComponent'>\n",
      "instrumenting <class 'llama_index.core.node_parser.text.sentence.SentenceSplitter'> for base <class 'llama_index.core.schema.BaseComponent'>\n",
      "instrumenting <class 'llama_index.core.node_parser.text.sentence.SentenceSplitter'> for base <class 'pydantic.main.BaseModel'>\n",
      "instrumenting <class 'llama_index.core.node_parser.text.sentence.SentenceSplitter'> for base <class 'llama_index.core.instrumentation.DispatcherSpanMixin'>\n",
      "instrumenting <class 'llama_index.core.node_parser.text.sentence.SentenceSplitter'> for base <class 'abc.ABC'>\n",
      "instrumenting <class 'llama_index.core.node_parser.text.sentence.SentenceSplitter'> for base <class 'object'>\n",
      "instrumenting <class 'llama_index.core.node_parser.text.sentence.SentenceSplitter'> for base <class 'llama_index.core.node_parser.text.sentence.SentenceSplitter'>\n",
      "instrumenting <class 'llama_index.core.node_parser.text.sentence.SentenceSplitter'> for base <class 'llama_index.core.node_parser.interface.MetadataAwareTextSplitter'>\n",
      "instrumenting <class 'llama_index.core.node_parser.text.sentence.SentenceSplitter'> for base <class 'llama_index.core.node_parser.interface.TextSplitter'>\n",
      "instrumenting <class 'llama_index.core.node_parser.text.sentence.SentenceSplitter'> for base <class 'llama_index.core.node_parser.interface.NodeParser'>\n",
      "instrumenting <class 'llama_index.core.node_parser.text.sentence.SentenceSplitter'> for base <class 'llama_index.core.schema.TransformComponent'>\n",
      "instrumenting <class 'llama_index.core.node_parser.text.sentence.SentenceSplitter'> for base <class 'llama_index.core.schema.BaseComponent'>\n",
      "instrumenting <class 'llama_index.core.node_parser.text.sentence.SentenceSplitter'> for base <class 'pydantic.main.BaseModel'>\n",
      "instrumenting <class 'llama_index.core.node_parser.text.sentence.SentenceSplitter'> for base <class 'llama_index.core.instrumentation.DispatcherSpanMixin'>\n",
      "instrumenting <class 'llama_index.core.node_parser.text.sentence.SentenceSplitter'> for base <class 'abc.ABC'>\n",
      "instrumenting <class 'llama_index.core.node_parser.text.sentence.SentenceSplitter'> for base <class 'object'>\n",
      "skipping base <class 'llama_index.core.storage.docstore.simple_docstore.SimpleDocumentStore'> because of class\n",
      "instrumenting <class 'llama_index.core.storage.docstore.simple_docstore.SimpleDocumentStore'> for base <class 'llama_index.core.storage.docstore.keyval_docstore.KVDocumentStore'>\n",
      "instrumenting <class 'llama_index.core.storage.docstore.simple_docstore.SimpleDocumentStore'> for base <class 'llama_index.core.storage.docstore.types.BaseDocumentStore'>\n",
      "instrumenting <class 'llama_index.core.storage.docstore.simple_docstore.SimpleDocumentStore'> for base <class 'abc.ABC'>\n",
      "instrumenting <class 'llama_index.core.storage.docstore.simple_docstore.SimpleDocumentStore'> for base <class 'object'>\n",
      "skipping base <class 'llama_index.core.data_structs.data_structs.IndexDict'> because of class\n",
      "instrumenting <class 'llama_index.core.data_structs.data_structs.IndexDict'> for base <class 'llama_index.core.data_structs.data_structs.IndexStruct'>\n",
      "instrumenting <class 'llama_index.core.data_structs.data_structs.IndexDict'> for base <class 'dataclasses_json.api.DataClassJsonMixin'>\n",
      "instrumenting <class 'llama_index.core.data_structs.data_structs.IndexDict'> for base <class 'abc.ABC'>\n",
      "instrumenting <class 'llama_index.core.data_structs.data_structs.IndexDict'> for base <class 'object'>\n",
      "instrumenting <class 'llama_index.core.storage.docstore.types.RefDocInfo'> for base <class 'llama_index.core.storage.docstore.types.RefDocInfo'>\n",
      "instrumenting <class 'llama_index.core.storage.docstore.types.RefDocInfo'> for base <class 'dataclasses_json.api.DataClassJsonMixin'>\n",
      "instrumenting <class 'llama_index.core.storage.docstore.types.RefDocInfo'> for base <class 'abc.ABC'>\n",
      "instrumenting <class 'llama_index.core.storage.docstore.types.RefDocInfo'> for base <class 'object'>\n",
      "skipping base <class 'llama_index.core.storage.storage_context.StorageContext'> because of class\n",
      "instrumenting <class 'llama_index.core.storage.storage_context.StorageContext'> for base <class 'object'>\n",
      "instrumenting <class 'llama_index.core.indices.vector_store.retrievers.retriever.VectorIndexRetriever'> for base <class 'llama_index.core.indices.vector_store.retrievers.retriever.VectorIndexRetriever'>\n",
      "\tinstrumenting retrieve\n",
      "\tinstrumenting _retrieve\n",
      "\tinstrumenting _aretrieve\n",
      "instrumenting <class 'llama_index.core.indices.vector_store.retrievers.retriever.VectorIndexRetriever'> for base <class 'llama_index.core.base.base_retriever.BaseRetriever'>\n",
      "\tinstrumenting retrieve\n",
      "\tinstrumenting _retrieve\n",
      "\tinstrumenting _aretrieve\n",
      "instrumenting <class 'llama_index.core.indices.vector_store.retrievers.retriever.VectorIndexRetriever'> for base <class 'llama_index.core.base.query_pipeline.query.ChainableMixin'>\n",
      "instrumenting <class 'llama_index.core.indices.vector_store.retrievers.retriever.VectorIndexRetriever'> for base <class 'llama_index.core.prompts.mixin.PromptMixin'>\n",
      "instrumenting <class 'llama_index.core.indices.vector_store.retrievers.retriever.VectorIndexRetriever'> for base <class 'llama_index.core.instrumentation.DispatcherSpanMixin'>\n",
      "instrumenting <class 'llama_index.core.indices.vector_store.retrievers.retriever.VectorIndexRetriever'> for base <class 'abc.ABC'>\n",
      "instrumenting <class 'llama_index.core.indices.vector_store.retrievers.retriever.VectorIndexRetriever'> for base <class 'object'>\n",
      "instrumenting <class 'llama_index.core.retrievers.auto_merging_retriever.AutoMergingRetriever'> for base <class 'llama_index.core.retrievers.auto_merging_retriever.AutoMergingRetriever'>\n",
      "\tinstrumenting retrieve\n",
      "\tinstrumenting _retrieve\n",
      "\tinstrumenting _aretrieve\n",
      "instrumenting <class 'llama_index.core.retrievers.auto_merging_retriever.AutoMergingRetriever'> for base <class 'llama_index.core.base.base_retriever.BaseRetriever'>\n",
      "\tinstrumenting retrieve\n",
      "\tinstrumenting _retrieve\n",
      "\tinstrumenting _aretrieve\n",
      "instrumenting <class 'llama_index.core.retrievers.auto_merging_retriever.AutoMergingRetriever'> for base <class 'llama_index.core.base.query_pipeline.query.ChainableMixin'>\n",
      "instrumenting <class 'llama_index.core.retrievers.auto_merging_retriever.AutoMergingRetriever'> for base <class 'llama_index.core.prompts.mixin.PromptMixin'>\n",
      "instrumenting <class 'llama_index.core.retrievers.auto_merging_retriever.AutoMergingRetriever'> for base <class 'llama_index.core.instrumentation.DispatcherSpanMixin'>\n",
      "instrumenting <class 'llama_index.core.retrievers.auto_merging_retriever.AutoMergingRetriever'> for base <class 'abc.ABC'>\n",
      "instrumenting <class 'llama_index.core.retrievers.auto_merging_retriever.AutoMergingRetriever'> for base <class 'object'>\n",
      "skipping base <class 'llama_index.core.callbacks.base.CallbackManager'> because of class\n",
      "instrumenting <class 'llama_index.core.callbacks.base.CallbackManager'> for base <class 'llama_index.core.callbacks.base_handler.BaseCallbackHandler'>\n",
      "instrumenting <class 'llama_index.core.callbacks.base.CallbackManager'> for base <class 'abc.ABC'>\n",
      "instrumenting <class 'llama_index.core.callbacks.base.CallbackManager'> for base <class 'object'>\n",
      "instrumenting <class 'llama_index.llms.openai.base.OpenAI'> for base <class 'llama_index.llms.openai.base.OpenAI'>\n",
      "instrumenting <class 'llama_index.llms.openai.base.OpenAI'> for base <class 'llama_index.core.llms.function_calling.FunctionCallingLLM'>\n",
      "instrumenting <class 'llama_index.llms.openai.base.OpenAI'> for base <class 'llama_index.core.llms.llm.LLM'>\n",
      "instrumenting <class 'llama_index.llms.openai.base.OpenAI'> for base <class 'llama_index.core.base.llms.base.BaseLLM'>\n",
      "instrumenting <class 'llama_index.llms.openai.base.OpenAI'> for base <class 'llama_index.core.base.query_pipeline.query.ChainableMixin'>\n",
      "instrumenting <class 'llama_index.llms.openai.base.OpenAI'> for base <class 'llama_index.core.schema.BaseComponent'>\n",
      "instrumenting <class 'llama_index.llms.openai.base.OpenAI'> for base <class 'pydantic.main.BaseModel'>\n",
      "instrumenting <class 'llama_index.llms.openai.base.OpenAI'> for base <class 'llama_index.core.instrumentation.DispatcherSpanMixin'>\n",
      "instrumenting <class 'llama_index.llms.openai.base.OpenAI'> for base <class 'abc.ABC'>\n",
      "instrumenting <class 'llama_index.llms.openai.base.OpenAI'> for base <class 'object'>\n",
      "instrumenting <class 'llama_index.core.base.llms.types.LLMMetadata'> for base <class 'llama_index.core.base.llms.types.LLMMetadata'>\n",
      "instrumenting <class 'llama_index.core.base.llms.types.LLMMetadata'> for base <class 'pydantic.main.BaseModel'>\n",
      "instrumenting <class 'llama_index.core.base.llms.types.LLMMetadata'> for base <class 'object'>\n",
      "instrumenting <class 'llama_index.core.indices.prompt_helper.PromptHelper'> for base <class 'llama_index.core.indices.prompt_helper.PromptHelper'>\n",
      "instrumenting <class 'llama_index.core.indices.prompt_helper.PromptHelper'> for base <class 'llama_index.core.schema.BaseComponent'>\n",
      "instrumenting <class 'llama_index.core.indices.prompt_helper.PromptHelper'> for base <class 'pydantic.main.BaseModel'>\n",
      "instrumenting <class 'llama_index.core.indices.prompt_helper.PromptHelper'> for base <class 'object'>\n",
      "instrumenting <class 'llama_index.core.response_synthesizers.compact_and_refine.CompactAndRefine'> for base <class 'llama_index.core.response_synthesizers.compact_and_refine.CompactAndRefine'>\n",
      "\tinstrumenting get_response\n",
      "instrumenting <class 'llama_index.core.response_synthesizers.compact_and_refine.CompactAndRefine'> for base <class 'llama_index.core.response_synthesizers.refine.Refine'>\n",
      "\tinstrumenting get_response\n",
      "instrumenting <class 'llama_index.core.response_synthesizers.compact_and_refine.CompactAndRefine'> for base <class 'llama_index.core.response_synthesizers.base.BaseSynthesizer'>\n",
      "\tinstrumenting get_response\n",
      "instrumenting <class 'llama_index.core.response_synthesizers.compact_and_refine.CompactAndRefine'> for base <class 'llama_index.core.base.query_pipeline.query.ChainableMixin'>\n",
      "instrumenting <class 'llama_index.core.response_synthesizers.compact_and_refine.CompactAndRefine'> for base <class 'llama_index.core.prompts.mixin.PromptMixin'>\n",
      "instrumenting <class 'llama_index.core.response_synthesizers.compact_and_refine.CompactAndRefine'> for base <class 'llama_index.core.instrumentation.DispatcherSpanMixin'>\n",
      "instrumenting <class 'llama_index.core.response_synthesizers.compact_and_refine.CompactAndRefine'> for base <class 'abc.ABC'>\n",
      "instrumenting <class 'llama_index.core.response_synthesizers.compact_and_refine.CompactAndRefine'> for base <class 'object'>\n",
      "skipping base <class 'llama_index.core.prompts.base.SelectorPromptTemplate'> because of class\n",
      "instrumenting <class 'llama_index.core.prompts.base.SelectorPromptTemplate'> for base <class 'llama_index.core.prompts.base.BasePromptTemplate'>\n",
      "instrumenting <class 'llama_index.core.prompts.base.SelectorPromptTemplate'> for base <class 'llama_index.core.base.query_pipeline.query.ChainableMixin'>\n",
      "instrumenting <class 'llama_index.core.prompts.base.SelectorPromptTemplate'> for base <class 'pydantic.main.BaseModel'>\n",
      "instrumenting <class 'llama_index.core.prompts.base.SelectorPromptTemplate'> for base <class 'abc.ABC'>\n",
      "instrumenting <class 'llama_index.core.prompts.base.SelectorPromptTemplate'> for base <class 'object'>\n",
      "skipping base <class 'llama_index.core.prompts.base.SelectorPromptTemplate'> because of class\n",
      "instrumenting <class 'llama_index.core.prompts.base.SelectorPromptTemplate'> for base <class 'llama_index.core.prompts.base.BasePromptTemplate'>\n",
      "instrumenting <class 'llama_index.core.prompts.base.SelectorPromptTemplate'> for base <class 'llama_index.core.base.query_pipeline.query.ChainableMixin'>\n",
      "instrumenting <class 'llama_index.core.prompts.base.SelectorPromptTemplate'> for base <class 'pydantic.main.BaseModel'>\n",
      "instrumenting <class 'llama_index.core.prompts.base.SelectorPromptTemplate'> for base <class 'abc.ABC'>\n",
      "instrumenting <class 'llama_index.core.prompts.base.SelectorPromptTemplate'> for base <class 'object'>\n",
      "instrumenting <class 'llama_index.core.query_engine.retriever_query_engine.RetrieverQueryEngine'> for base <class 'llama_index.core.query_engine.retriever_query_engine.RetrieverQueryEngine'>\n",
      "\tinstrumenting query\n",
      "\tinstrumenting aquery\n",
      "\tinstrumenting synthesize\n",
      "\tinstrumenting asynthesize\n",
      "\tinstrumenting retrieve\n",
      "instrumenting <class 'llama_index.core.query_engine.retriever_query_engine.RetrieverQueryEngine'> for base <class 'llama_index.core.base.base_query_engine.BaseQueryEngine'>\n",
      "\tinstrumenting query\n",
      "\tinstrumenting aquery\n",
      "\tinstrumenting synthesize\n",
      "\tinstrumenting asynthesize\n",
      "\tinstrumenting retrieve\n",
      "instrumenting <class 'llama_index.core.query_engine.retriever_query_engine.RetrieverQueryEngine'> for base <class 'llama_index.core.base.query_pipeline.query.ChainableMixin'>\n",
      "instrumenting <class 'llama_index.core.query_engine.retriever_query_engine.RetrieverQueryEngine'> for base <class 'llama_index.core.prompts.mixin.PromptMixin'>\n",
      "instrumenting <class 'llama_index.core.query_engine.retriever_query_engine.RetrieverQueryEngine'> for base <class 'llama_index.core.instrumentation.DispatcherSpanMixin'>\n",
      "instrumenting <class 'llama_index.core.query_engine.retriever_query_engine.RetrieverQueryEngine'> for base <class 'abc.ABC'>\n",
      "instrumenting <class 'llama_index.core.query_engine.retriever_query_engine.RetrieverQueryEngine'> for base <class 'object'>\n",
      "instrumenting <class 'llama_index.core.postprocessor.sbert_rerank.SentenceTransformerRerank'> for base <class 'llama_index.core.postprocessor.sbert_rerank.SentenceTransformerRerank'>\n",
      "\tinstrumenting _postprocess_nodes\n",
      "instrumenting <class 'llama_index.core.postprocessor.sbert_rerank.SentenceTransformerRerank'> for base <class 'llama_index.core.postprocessor.types.BaseNodePostprocessor'>\n",
      "\tinstrumenting _postprocess_nodes\n",
      "instrumenting <class 'llama_index.core.postprocessor.sbert_rerank.SentenceTransformerRerank'> for base <class 'llama_index.core.base.query_pipeline.query.ChainableMixin'>\n",
      "instrumenting <class 'llama_index.core.postprocessor.sbert_rerank.SentenceTransformerRerank'> for base <class 'llama_index.core.schema.BaseComponent'>\n",
      "instrumenting <class 'llama_index.core.postprocessor.sbert_rerank.SentenceTransformerRerank'> for base <class 'pydantic.main.BaseModel'>\n",
      "instrumenting <class 'llama_index.core.postprocessor.sbert_rerank.SentenceTransformerRerank'> for base <class 'llama_index.core.instrumentation.DispatcherSpanMixin'>\n",
      "instrumenting <class 'llama_index.core.postprocessor.sbert_rerank.SentenceTransformerRerank'> for base <class 'abc.ABC'>\n",
      "instrumenting <class 'llama_index.core.postprocessor.sbert_rerank.SentenceTransformerRerank'> for base <class 'object'>\n"
     ]
    }
   ],
   "source": [
    "from local_utils import get_prebuilt_trulens_recorder\n",
    "\n",
    "tru_recorder = get_prebuilt_trulens_recorder(\n",
    "    auto_merging_engine_0,\n",
    "    app_id ='app_0'\n",
    ")"
   ]
  },
  {
   "cell_type": "code",
   "execution_count": 36,
   "metadata": {},
   "outputs": [],
   "source": [
    "eval_questions = []\n",
    "with open('generated_questions.text', 'r') as file:\n",
    "    for line in file:\n",
    "        # Remove newline character and convert to integer\n",
    "        item = line.strip()\n",
    "        eval_questions.append(item)"
   ]
  },
  {
   "cell_type": "code",
   "execution_count": 37,
   "metadata": {},
   "outputs": [],
   "source": [
    "def run_evals(eval_questions, tru_recorder, query_engine):\n",
    "    for question in eval_questions:\n",
    "        with tru_recorder as recording:\n",
    "            response = query_engine.query(question)"
   ]
  },
  {
   "cell_type": "code",
   "execution_count": 38,
   "metadata": {},
   "outputs": [
    {
     "name": "stdout",
     "output_type": "stream",
     "text": [
      "calling <function BaseQueryEngine.query at 0x162128ee0> with (<llama_index.core.query_engine.retriever_query_engine.RetrieverQueryEngine object at 0x32c47f9d0>, 'In the context of project selection and execution, explain the difference between the \"Ready, Aim, Fire\" and \"Ready, Fire, Aim\" approaches. Provide examples where each approach might be more beneficial.')\n",
      "calling <function RetrieverQueryEngine.retrieve at 0x1631963b0> with (<llama_index.core.query_engine.retriever_query_engine.RetrieverQueryEngine object at 0x32c47f9d0>, QueryBundle(query_str='In the context of project selection and execution, explain the difference between the \"Ready, Aim, Fire\" and \"Ready, Fire, Aim\" approaches. Provide examples where each approach might be more beneficial.', image_path=None, custom_embedding_strs=None, embedding=None))\n",
      "calling <function BaseRetriever.retrieve at 0x1624d12d0> with (<llama_index.core.retrievers.auto_merging_retriever.AutoMergingRetriever object at 0x3be4045b0>, QueryBundle(query_str='In the context of project selection and execution, explain the difference between the \"Ready, Aim, Fire\" and \"Ready, Fire, Aim\" approaches. Provide examples where each approach might be more beneficial.', image_path=None, custom_embedding_strs=None, embedding=None))\n",
      "calling <function AutoMergingRetriever._retrieve at 0x3242a2e60> with (<llama_index.core.retrievers.auto_merging_retriever.AutoMergingRetriever object at 0x3be4045b0>, QueryBundle(query_str='In the context of project selection and execution, explain the difference between the \"Ready, Aim, Fire\" and \"Ready, Fire, Aim\" approaches. Provide examples where each approach might be more beneficial.', image_path=None, custom_embedding_strs=None, embedding=None))\n",
      "calling <function BaseRetriever.retrieve at 0x1624d12d0> with (<llama_index.core.indices.vector_store.retrievers.retriever.VectorIndexRetriever object at 0x3be404670>, QueryBundle(query_str='In the context of project selection and execution, explain the difference between the \"Ready, Aim, Fire\" and \"Ready, Fire, Aim\" approaches. Provide examples where each approach might be more beneficial.', image_path=None, custom_embedding_strs=None, embedding=None))\n",
      "calling <function VectorIndexRetriever._retrieve at 0x1629ecee0> with (<llama_index.core.indices.vector_store.retrievers.retriever.VectorIndexRetriever object at 0x3be404670>, QueryBundle(query_str='In the context of project selection and execution, explain the difference between the \"Ready, Aim, Fire\" and \"Ready, Fire, Aim\" approaches. Provide examples where each approach might be more beneficial.', image_path=None, custom_embedding_strs=None, embedding=None))\n",
      "> Merging 2 nodes into parent node.\n",
      "> Parent node id: 278b8ec8-fbf5-43b7-8345-aaaf336b417b.\n",
      "> Parent node text: PAGE 20\n",
      "Working on projects requires making tough choices about what to build and how to go \n",
      "abou...\n",
      "\n",
      "> Merging 1 nodes into parent node.\n",
      "> Parent node id: 023ac8eb-4bb1-4c17-8842-0918a416554a.\n",
      "> Parent node text: PAGE 7\n",
      "These phases apply in a wide \n",
      "range of professions, but AI \n",
      "involves unique elements.\n",
      "For ...\n",
      "\n",
      "> Merging 1 nodes into parent node.\n",
      "> Parent node id: 79857a26-856f-4083-b202-aeec670647c1.\n",
      "> Parent node text: PAGE 15\n",
      "One of the most important skills of an AI architect is the ability to identify ideas that...\n",
      "\n",
      "> Merging 1 nodes into parent node.\n",
      "> Parent node id: e6d71100-16b1-4ab5-b80d-737e50f855a3.\n",
      "> Parent node text: PAGE 22\n",
      "Over the course of a career, you’re likely to work on projects in succession, each growin...\n",
      "\n",
      "> Merging 1 nodes into parent node.\n",
      "> Parent node id: c7198b00-6a2f-4a0d-931f-41c6218ffeb3.\n",
      "> Parent node text: PAGE 18\n",
      "It goes without saying that we should only work on projects that are responsible, ethical...\n",
      "\n",
      "> Merging 1 nodes into parent node.\n",
      "> Parent node id: 0a58579a-7b97-404a-908b-97aefd95e813.\n",
      "> Parent node text: PAGE 16\n",
      "Determine milestones. Once you’ve deemed a project sufficiently \n",
      "valuable, the next step ...\n",
      "\n",
      "> Merging 1 nodes into parent node.\n",
      "> Parent node id: dd3a422a-2eff-4562-a75a-2c4beca3cec0.\n",
      "> Parent node text: PAGE 23\n",
      "Each project is only one step on a longer journey, hopefully one that has a positive impa...\n",
      "\n",
      "> Merging 1 nodes into parent node.\n",
      "> Parent node id: a1b38975-f391-4d91-9d39-c7cff6975a7e.\n",
      "> Parent node text: PAGE 29\n",
      "If you’re preparing to switch roles (say, taking a job as a machine learning engineer for...\n",
      "\n",
      "> Merging 1 nodes into parent node.\n",
      "> Parent node id: 5525bda6-152c-480f-af18-0395aa5b00de.\n",
      "> Parent node text: PAGE 33\n",
      "Choose who to work with. It’s tempting to take a position because of the projects you’ll ...\n",
      "\n",
      "> Merging 1 nodes into parent node.\n",
      "> Parent node id: 7f403843-08b1-4f90-bbcb-095c02cf2eb5.\n",
      "> Parent node text: PAGE 27\n",
      "There’s a lot we don’t know about the future: When will we cure Alzheimer’s disease? Who ...\n",
      "\n",
      "> Merging 1 nodes into parent node.\n",
      "> Parent node id: b77838b9-b8c1-4c8d-ba7e-d23015c702ea.\n",
      "> Parent node text: PAGE 3\n",
      "Table of \n",
      "Contents\n",
      "Introduction: Coding AI is the New Literacy.\n",
      "Chapter 1: Three Steps to ...\n",
      "\n",
      "calling <function SentenceTransformerRerank._postprocess_nodes at 0x16274d240> with (SentenceTransformerRerank(callback_manager=<llama_index.core.callbacks.base.CallbackManager object at 0x16419bbb0>, model='BAAI/bge-reranker-base', top_n=6, device='mps', keep_retrieval_score=False, trust_remote_code=False), [NodeWithScore(node=TextNode(id_='278b8ec8-fbf5-43b7-8345-aaaf336b417b', embedding=None, metadata={'page_label': '20', 'file_name': 'eBook-How-to-Build-a-Career-in-AI.pdf', 'file_path': 'eBook-How-to-Build-a-Career-in-AI.pdf', 'file_type': 'application/pdf', 'file_size': 3717673, 'creation_date': '2025-01-11', 'last_modified_date': '2025-01-09'}, excluded_embed_metadata_keys=['file_name', 'file_type', 'file_size', 'creation_date', 'last_modified_date', 'last_accessed_date'], excluded_llm_metadata_keys=['file_name', 'file_type', 'file_size', 'creation_date', 'last_modified_date', 'last_accessed_date'], relationships={<NodeRelationship.SOURCE: '1'>: RelatedNodeInfo(node_id='69c78f78-b020-4294-8038-9c8ce1e9d980', node_type='4', metadata={'page_label': '20', 'file_name': 'eBook-How-to-Build-a-Career-in-AI.pdf', 'file_path': 'eBook-How-to-Build-a-Career-in-AI.pdf', 'file_type': 'application/pdf', 'file_size': 3717673, 'creation_date': '2025-01-11', 'last_modified_date': '2025-01-09'}, hash='84406ac1dbc40d76e542cb71f5ab08573ddcc32ba81c7343f83ec4b479617854'), <NodeRelationship.CHILD: '5'>: [RelatedNodeInfo(node_id='04cdced3-d99e-414f-a480-16f21f7aa1b0', node_type='1', metadata={'page_label': '20', 'file_name': 'eBook-How-to-Build-a-Career-in-AI.pdf', 'file_path': 'eBook-How-to-Build-a-Career-in-AI.pdf', 'file_type': 'application/pdf', 'file_size': 3717673, 'creation_date': '2025-01-11', 'last_modified_date': '2025-01-09'}, hash='8dacd1eb0e3adf49a89eac80577abacbffb475ba10802af2788c5fb409f2148f'), RelatedNodeInfo(node_id='c3e539f0-2e15-4a4e-bf82-091f598bf63e', node_type='1', metadata={'page_label': '20', 'file_name': 'eBook-How-to-Build-a-Career-in-AI.pdf', 'file_path': 'eBook-How-to-Build-a-Career-in-AI.pdf', 'file_type': 'application/pdf', 'file_size': 3717673, 'creation_date': '2025-01-11', 'last_modified_date': '2025-01-09'}, hash='45ae8d179ef8b34265947874d7b2841fa12224634812e2f29a2769b53000527a')]}, metadata_template='{key}: {value}', metadata_separator='\\n', text='PAGE 20\\nWorking on projects requires making tough choices about what to build and how to go \\nabout it. Here are two distinct styles:\\nSay you’ve built a customer-service chatbot for retailers, and you think it could help restaurants, \\ntoo. Should you take time to study the restaurant market before starting development, moving \\nslowly but cutting the risk of wasting time and resources? Or jump in right away, moving \\nquickly and accepting a higher risk of pivoting or failing?\\nBoth approaches have their advocates, and the best choice depends on the situation.\\nReady, Aim, Fire tends to be superior when the cost of execution is high and a study can shed \\nlight on how useful or valuable a project could be. For example, if you can brainstorm a few \\nother use cases (restaurants, airlines, telcos, and so on) and evaluate these cases to identify \\nthe most promising one, it may be worth taking the extra time before committing to a direction.\\nReady, Fire, Aim tends to be better if you can execute at low cost and, in doing so, determine \\nwhether the direction is feasible and discover tweaks that will make it work. For example, if \\nyou can build a prototype quickly to figure out if users want the product, and if canceling or \\npivoting after a small amount of work is acceptable, then it makes sense to consider jumping \\nin quickly. When taking a shot is inexpensive, it also makes sense to take many shots. In this \\ncase, the process is actually Ready, Fire, Aim, Fire, Aim, Fire, Aim, Fire. \\nAfter agreeing upon a project direction, when it comes to building a machine learning model \\nthat’s part of the product, I have a bias toward Ready, Fire, Aim. Building models is an iterative \\nprocess. For many applications, the cost of training and conducting error analysis is not \\nprohibitive. Furthermore, it is very difficult to carry out a study that will shed light on the \\nappropriate model, data, and hyperparameters. So it makes sense to build an end-to-end \\nsystem quickly and revise it until it works well.\\nBut when committing to a direction means making a costly investment or entering a one-\\nway door (meaning a decision that’s hard to reverse), it’s often worth spending more time in \\nadvance to make sure it really is a good idea.\\nReady, Fire, Aim\\nReady, Aim, Fire: Plan carefully and carry out careful validation. Commit and \\nexecute only when you have a high degree of confidence in a direction.\\nReady, Fire, Aim: Jump into development and start executing. This allows you to \\ndiscover problems quickly and pivot along the way if necessary.\\n✓\\n✓', mimetype='text/plain', start_char_idx=0, end_char_idx=2560, metadata_seperator='\\n', text_template='{metadata_str}\\n\\n{content}'), score=0.7905007952342094), NodeWithScore(node=TextNode(id_='023ac8eb-4bb1-4c17-8842-0918a416554a', embedding=None, metadata={'page_label': '7', 'file_name': 'eBook-How-to-Build-a-Career-in-AI.pdf', 'file_path': 'eBook-How-to-Build-a-Career-in-AI.pdf', 'file_type': 'application/pdf', 'file_size': 3717673, 'creation_date': '2025-01-11', 'last_modified_date': '2025-01-09'}, excluded_embed_metadata_keys=['file_name', 'file_type', 'file_size', 'creation_date', 'last_modified_date', 'last_accessed_date'], excluded_llm_metadata_keys=['file_name', 'file_type', 'file_size', 'creation_date', 'last_modified_date', 'last_accessed_date'], relationships={<NodeRelationship.SOURCE: '1'>: RelatedNodeInfo(node_id='1fd5b75b-05d4-4737-9c47-52deaa69cc38', node_type='4', metadata={'page_label': '7', 'file_name': 'eBook-How-to-Build-a-Career-in-AI.pdf', 'file_path': 'eBook-How-to-Build-a-Career-in-AI.pdf', 'file_type': 'application/pdf', 'file_size': 3717673, 'creation_date': '2025-01-11', 'last_modified_date': '2025-01-09'}, hash='7d0b9a05656661d97cf1a4cad37c165433eaf193d12f6ff2357b905f1a836d6c'), <NodeRelationship.CHILD: '5'>: [RelatedNodeInfo(node_id='b2207982-2660-45ae-9dfe-53899f759ece', node_type='1', metadata={'page_label': '7', 'file_name': 'eBook-How-to-Build-a-Career-in-AI.pdf', 'file_path': 'eBook-How-to-Build-a-Career-in-AI.pdf', 'file_type': 'application/pdf', 'file_size': 3717673, 'creation_date': '2025-01-11', 'last_modified_date': '2025-01-09'}, hash='531c4fb21d74fd9d83b6a93d1a18abbc8ea35e08919ef53a72b6d239dcb804e3')]}, metadata_template='{key}: {value}', metadata_separator='\\n', text='PAGE 7\\nThese phases apply in a wide \\nrange of professions, but AI \\ninvolves unique elements.\\nFor example:\\nThree Steps to Career Growth\\nAI is nascent, and many technologies are still evolving. While the \\nfoundations of machine learning and deep learning are maturing — \\nand coursework is an efficient way to master them — beyond these \\nfoundations, keeping up-to-date with changing technology is more \\nimportant in AI than fields that are more mature.\\nLearning foundational skills is a career-long process:\\nThis can make it challenging to find a suitable project, estimate the project’s \\ntimeline and return on investment, and set expectations. In addition, the \\nhighly iterative nature of AI projects leads to special challenges in project \\nmanagement: How can you come up with a plan for building a system \\nwhen you don’t know in advance how long it will take to achieve the target \\naccuracy? Even after the system has hit the target, further iteration may \\nbe necessary to address post-deployment drift.\\nWorking on projects often means collaborating with \\nstakeholders who lack expertise in AI:\\nWhile searching for a job in AI can be similar to searching for a job in \\nother sectors, there are also important differences. Many companies are \\nstill trying to figure out which AI skills they need, and how to hire people \\nwho have them. Things you’ve worked on may be significantly different \\nthan anything your interviewer has seen, and you’re more likely to have to \\neducate potential employers about some elements of your work.\\nInconsistent opinions on AI skills and jobs roles: \\nCHAPTER 1\\nAs you go through each step, you should also build a supportive community. Having friends and \\nallies who can help you — and who you strive to help — makes the path easier. This is true whether \\nyou’re taking your first steps or you’ve been on the journey for years.\\nLEARNING\\nPROJECTS\\nJOB', mimetype='text/plain', start_char_idx=0, end_char_idx=1881, metadata_seperator='\\n', text_template='{metadata_str}\\n\\n{content}'), score=0.6450501688762308), NodeWithScore(node=TextNode(id_='79857a26-856f-4083-b202-aeec670647c1', embedding=None, metadata={'page_label': '15', 'file_name': 'eBook-How-to-Build-a-Career-in-AI.pdf', 'file_path': 'eBook-How-to-Build-a-Career-in-AI.pdf', 'file_type': 'application/pdf', 'file_size': 3717673, 'creation_date': '2025-01-11', 'last_modified_date': '2025-01-09'}, excluded_embed_metadata_keys=['file_name', 'file_type', 'file_size', 'creation_date', 'last_modified_date', 'last_accessed_date'], excluded_llm_metadata_keys=['file_name', 'file_type', 'file_size', 'creation_date', 'last_modified_date', 'last_accessed_date'], relationships={<NodeRelationship.SOURCE: '1'>: RelatedNodeInfo(node_id='adcfe99c-b890-439d-bcb4-b53da2a37964', node_type='4', metadata={'page_label': '15', 'file_name': 'eBook-How-to-Build-a-Career-in-AI.pdf', 'file_path': 'eBook-How-to-Build-a-Career-in-AI.pdf', 'file_type': 'application/pdf', 'file_size': 3717673, 'creation_date': '2025-01-11', 'last_modified_date': '2025-01-09'}, hash='418a896e650d00c49e10a566833e2e2ade4a186458d75230bce9592ddf126671'), <NodeRelationship.CHILD: '5'>: [RelatedNodeInfo(node_id='29dacfb0-7d68-4c98-9ae2-39f14b1797af', node_type='1', metadata={'page_label': '15', 'file_name': 'eBook-How-to-Build-a-Career-in-AI.pdf', 'file_path': 'eBook-How-to-Build-a-Career-in-AI.pdf', 'file_type': 'application/pdf', 'file_size': 3717673, 'creation_date': '2025-01-11', 'last_modified_date': '2025-01-09'}, hash='e73d6c3d4ff7d7ceae1d43ad73e2a2d4a7d101d2bc17b92911884eb77e93eded')]}, metadata_template='{key}: {value}', metadata_separator='\\n', text='PAGE 15\\nOne of the most important skills of an AI architect is the ability to identify ideas that are worth \\nworking on. These next few chapters will discuss finding and working on projects so you can gain \\nexperience and build your portfolio. \\nOver the years, I’ve had fun applying machine learning to manufacturing, healthcare, climate \\nchange, agriculture, ecommerce, advertising, and other industries. How can someone who’s not \\nan expert in all these sectors find meaningful projects within them? Here are five steps to help \\nyou scope projects.\\nIdentify a business problem (not an AI problem). I like to find \\na domain expert and ask, “What are the top three things \\nthat you wish worked better? Why aren’t they working yet?” \\nFor example, if you want to apply AI to climate change, you \\nmight discover that power-grid operators can’t accurately \\npredict how much power intermittent sources like wind \\nand solar might generate in the future.\\nBrainstorm AI solutions. When I was younger, I used to \\nexecute on the first idea I was excited about. Sometimes \\nthis worked out okay, but sometimes I ended up missing \\nan even better idea that might not have taken any more \\neffort to build. Once you understand a problem, you can \\nbrainstorm potential solutions more efficiently. For instance, \\nto predict power generation from intermittent sources, we \\nmight consider using satellite imagery to map the locations \\nof wind turbines more accurately, using satellite imagery \\nto estimate the height and generation capacity of wind \\nturbines, or using weather data to better predict cloud cover \\nand thus solar irradiance. Sometimes there isn’t a good AI \\nsolution, and that’s okay too.\\nScoping Successful AI Projects CHAPTER 4\\nStep 1\\nStep 2', mimetype='text/plain', start_char_idx=0, end_char_idx=1738, metadata_seperator='\\n', text_template='{metadata_str}\\n\\n{content}'), score=0.6434922835626796), NodeWithScore(node=TextNode(id_='e6d71100-16b1-4ab5-b80d-737e50f855a3', embedding=None, metadata={'page_label': '22', 'file_name': 'eBook-How-to-Build-a-Career-in-AI.pdf', 'file_path': 'eBook-How-to-Build-a-Career-in-AI.pdf', 'file_type': 'application/pdf', 'file_size': 3717673, 'creation_date': '2025-01-11', 'last_modified_date': '2025-01-09'}, excluded_embed_metadata_keys=['file_name', 'file_type', 'file_size', 'creation_date', 'last_modified_date', 'last_accessed_date'], excluded_llm_metadata_keys=['file_name', 'file_type', 'file_size', 'creation_date', 'last_modified_date', 'last_accessed_date'], relationships={<NodeRelationship.SOURCE: '1'>: RelatedNodeInfo(node_id='ca081370-3e06-448f-bf6a-82e90bfde7e9', node_type='4', metadata={'page_label': '22', 'file_name': 'eBook-How-to-Build-a-Career-in-AI.pdf', 'file_path': 'eBook-How-to-Build-a-Career-in-AI.pdf', 'file_type': 'application/pdf', 'file_size': 3717673, 'creation_date': '2025-01-11', 'last_modified_date': '2025-01-09'}, hash='15c0c71c983b564f2d8293e7f35fe9739910d44b04e18785b536a93c640f7b4e'), <NodeRelationship.CHILD: '5'>: [RelatedNodeInfo(node_id='fc6f0861-81a2-44c7-9562-7a6f98ca637e', node_type='1', metadata={'page_label': '22', 'file_name': 'eBook-How-to-Build-a-Career-in-AI.pdf', 'file_path': 'eBook-How-to-Build-a-Career-in-AI.pdf', 'file_type': 'application/pdf', 'file_size': 3717673, 'creation_date': '2025-01-11', 'last_modified_date': '2025-01-09'}, hash='228c3dfb068efcb152ecdc0d4d72cba974e08f0226ded3da5fad012e6bc86f37')]}, metadata_template='{key}: {value}', metadata_separator='\\n', text='PAGE 22\\nOver the course of a career, you’re likely to work on projects in succession, each growing in \\nscope and complexity. For example:\\nThe first few projects might be narrowly scoped \\nhomework assignments with predetermined right \\nanswers. These are often great learning experiences!\\nEventually, you will gain enough skill to build projects in \\nwhich others see more tangible value. This opens the door \\nto more resources. For example, rather than developing \\nmachine learning systems in your spare time, it might \\nbecome part of your job, and you might gain access to more \\nequipment, compute time, labeling budget, or head count.\\nYou might go on to work on small-scale projects either alone or with friends. \\nFor instance, you might re-implement a known algorithm, apply machine \\nlearning to a hobby (such as predicting whether your favorite sports team \\nwill win), or build a small but useful system at work in your spare time (such \\nas a machine learning-based script that helps a colleague automate some of \\ntheir work). Participating in competitions such as those organized by Kaggle \\nis also one way to gain experience.\\nSuccesses build on each other, opening the door to \\nmore technical growth, more resources, and increasingly \\nsignificant project opportunities.\\n1. Class projects:\\n3. Creating value\\n2. Personal projects\\n4. Rising scope and complexity\\nBuilding a Portfolio of Projects That Shows Skill Progression CHAPTER 6', mimetype='text/plain', start_char_idx=0, end_char_idx=1434, metadata_seperator='\\n', text_template='{metadata_str}\\n\\n{content}'), score=0.642857738956662), NodeWithScore(node=TextNode(id_='c7198b00-6a2f-4a0d-931f-41c6218ffeb3', embedding=None, metadata={'page_label': '18', 'file_name': 'eBook-How-to-Build-a-Career-in-AI.pdf', 'file_path': 'eBook-How-to-Build-a-Career-in-AI.pdf', 'file_type': 'application/pdf', 'file_size': 3717673, 'creation_date': '2025-01-11', 'last_modified_date': '2025-01-09'}, excluded_embed_metadata_keys=['file_name', 'file_type', 'file_size', 'creation_date', 'last_modified_date', 'last_accessed_date'], excluded_llm_metadata_keys=['file_name', 'file_type', 'file_size', 'creation_date', 'last_modified_date', 'last_accessed_date'], relationships={<NodeRelationship.SOURCE: '1'>: RelatedNodeInfo(node_id='123153fc-6df0-49c4-aca4-99a32d9941ba', node_type='4', metadata={'page_label': '18', 'file_name': 'eBook-How-to-Build-a-Career-in-AI.pdf', 'file_path': 'eBook-How-to-Build-a-Career-in-AI.pdf', 'file_type': 'application/pdf', 'file_size': 3717673, 'creation_date': '2025-01-11', 'last_modified_date': '2025-01-09'}, hash='920e880169609d53c0819382b25651a7ef4fc0125c2547e538ee85e0469399ca'), <NodeRelationship.CHILD: '5'>: [RelatedNodeInfo(node_id='3c8afc77-b2b8-452b-94f0-52e08f5ae395', node_type='1', metadata={'page_label': '18', 'file_name': 'eBook-How-to-Build-a-Career-in-AI.pdf', 'file_path': 'eBook-How-to-Build-a-Career-in-AI.pdf', 'file_type': 'application/pdf', 'file_size': 3717673, 'creation_date': '2025-01-11', 'last_modified_date': '2025-01-09'}, hash='5d0434cd1d71d6ea80d846630dd17e1f21b13f6a57adbe05c24ba4cd899ccf2a')]}, metadata_template='{key}: {value}', metadata_separator='\\n', text='PAGE 18\\nIt goes without saying that we should only work on projects that are responsible, ethical, and \\nbeneficial to people. But those limits leave a large variety to choose from. In the previous chapter, \\nI wrote about how to identify and scope AI projects. This chapter and the next have a slightly \\ndifferent emphasis: picking and executing projects with an eye toward career development.\\nA fruitful career will include many projects, hopefully growing in scope, complexity, and impact \\nover time. Thus, it is fine to start small. Use early projects to learn and gradually step up to \\nbigger projects as your skills grow.\\nWhen you’re starting out, don’t expect others to hand great ideas or resources to you on a platter. \\nMany people start by working on small projects in their spare time. With initial successes — even \\nsmall ones — under your belt, your growing skills increase your ability to come up with better \\nideas, and it becomes easier to persuade others to help you step up to bigger projects.\\nFinding Projects that Compliment Your Career Goals CHAPTER 5\\nJoin existing projects. If you find someone else with an idea, ask to join their project.\\nKeep reading and talking to people. I come up with new ideas whenever I spend a lot of \\ntime reading, taking courses, or talking with domain experts. I’m confident that you will, too.\\nFocus on an application area. Many researchers are trying to advance basic AI technology \\n— say, by inventing the next generation of transformers or further scaling up language \\nmodels — so, while this is an exciting direction, it is also very hard. But the variety of \\napplications to which machine learning has not yet been applied is vast! I’m fortunate to \\nhave been able to apply neural networks to everything from autonomous helicopter flight to \\nonline advertising, partly because I jumped in when relatively few people were working on \\nthose applications. If your company or school cares about a particular application, explore \\nthe possibilities for machine learning. That can give you a first look at a potentially creative \\napplication — one where you can do unique work — that no one else has done yet.\\n✓\\n✓\\n✓\\nWhat if you don’t have any project ideas?\\nHere are a few ways to generate them:', mimetype='text/plain', start_char_idx=0, end_char_idx=2245, metadata_seperator='\\n', text_template='{metadata_str}\\n\\n{content}'), score=0.6417570204068627), NodeWithScore(node=TextNode(id_='0a58579a-7b97-404a-908b-97aefd95e813', embedding=None, metadata={'page_label': '16', 'file_name': 'eBook-How-to-Build-a-Career-in-AI.pdf', 'file_path': 'eBook-How-to-Build-a-Career-in-AI.pdf', 'file_type': 'application/pdf', 'file_size': 3717673, 'creation_date': '2025-01-11', 'last_modified_date': '2025-01-09'}, excluded_embed_metadata_keys=['file_name', 'file_type', 'file_size', 'creation_date', 'last_modified_date', 'last_accessed_date'], excluded_llm_metadata_keys=['file_name', 'file_type', 'file_size', 'creation_date', 'last_modified_date', 'last_accessed_date'], relationships={<NodeRelationship.SOURCE: '1'>: RelatedNodeInfo(node_id='353c6601-3a79-4192-8a56-6b4ee8e58bb7', node_type='4', metadata={'page_label': '16', 'file_name': 'eBook-How-to-Build-a-Career-in-AI.pdf', 'file_path': 'eBook-How-to-Build-a-Career-in-AI.pdf', 'file_type': 'application/pdf', 'file_size': 3717673, 'creation_date': '2025-01-11', 'last_modified_date': '2025-01-09'}, hash='d58395204d122948993b0538428cf7eb1a47b5799b21827682c5fa7152295fa2'), <NodeRelationship.CHILD: '5'>: [RelatedNodeInfo(node_id='e14f1d49-f143-4364-bdc3-755e15fe5adf', node_type='1', metadata={'page_label': '16', 'file_name': 'eBook-How-to-Build-a-Career-in-AI.pdf', 'file_path': 'eBook-How-to-Build-a-Career-in-AI.pdf', 'file_type': 'application/pdf', 'file_size': 3717673, 'creation_date': '2025-01-11', 'last_modified_date': '2025-01-09'}, hash='4fc753fe00a747fb9cf6b22195f956a138533ad014d6a2a1b61e206e93681dcb')]}, metadata_template='{key}: {value}', metadata_separator='\\n', text='PAGE 16\\nDetermine milestones. Once you’ve deemed a project sufficiently \\nvaluable, the next step is to determine the metrics to aim for. This \\nincludes both machine learning metrics (such as accuracy) and \\nbusiness metrics (such as revenue). Machine learning teams are often \\nmost comfortable with metrics that a learning algorithm can optimize. \\nBut we may need to stretch outside our comfort zone to come up \\nwith business metrics, such as those related to user engagement, \\nrevenue, and so on. Unfortunately, not every business problem can be \\nreduced to optimizing test set accuracy! If you aren’t able to determine \\nreasonable milestones, it may be a sign that you need to learn more \\nabout the problem. A quick proof of concept can help supply the \\nmissing perspective.\\nAssess the feasibility and value of potential solutions. You can determine \\nwhether an approach is technically feasible by looking at published work, \\nwhat competitors have done, or perhaps building a quick proof of concept \\nimplementation. You can determine its value by consulting with domain \\nexperts (say, power-grid operators, who can advise on the utility of the \\npotential solutions mentioned above).\\nBudget for resources. Think through everything you’ll need to get the \\nproject done including data, personnel, time, and any integrations or \\nsupport you may need from other teams. For example, if you need funds \\nto purchase satellite imagery, make sure that’s in the budget.\\nWorking on projects is an iterative process. If, at any step, you find that the current direction is \\ninfeasible, return to an earlier step and proceed with your new understanding. Is there a domain \\nthat excites you where AI might make a difference? I hope these steps will guide you in exploring it \\nthrough project work — even if you don’t yet have deep expertise in that field. AI won’t solve every \\nproblem, but as a community, let’s look for ways to make a positive impact wherever we can.\\nScoping Successful AI Projects CHAPTER 4\\nStep 3\\nStep 4\\nStep 5', mimetype='text/plain', start_char_idx=0, end_char_idx=2017, metadata_seperator='\\n', text_template='{metadata_str}\\n\\n{content}'), score=0.6358330340441524), NodeWithScore(node=TextNode(id_='dd3a422a-2eff-4562-a75a-2c4beca3cec0', embedding=None, metadata={'page_label': '23', 'file_name': 'eBook-How-to-Build-a-Career-in-AI.pdf', 'file_path': 'eBook-How-to-Build-a-Career-in-AI.pdf', 'file_type': 'application/pdf', 'file_size': 3717673, 'creation_date': '2025-01-11', 'last_modified_date': '2025-01-09'}, excluded_embed_metadata_keys=['file_name', 'file_type', 'file_size', 'creation_date', 'last_modified_date', 'last_accessed_date'], excluded_llm_metadata_keys=['file_name', 'file_type', 'file_size', 'creation_date', 'last_modified_date', 'last_accessed_date'], relationships={<NodeRelationship.SOURCE: '1'>: RelatedNodeInfo(node_id='cca1b16f-999d-412c-a5a1-026eeb1bafdd', node_type='4', metadata={'page_label': '23', 'file_name': 'eBook-How-to-Build-a-Career-in-AI.pdf', 'file_path': 'eBook-How-to-Build-a-Career-in-AI.pdf', 'file_type': 'application/pdf', 'file_size': 3717673, 'creation_date': '2025-01-11', 'last_modified_date': '2025-01-09'}, hash='aaf84584cd2462b6770b7623714a996a98d7dff10643404b0654d10649bc37b1'), <NodeRelationship.CHILD: '5'>: [RelatedNodeInfo(node_id='75e1193d-3cba-4a26-842b-736c749e4a8b', node_type='1', metadata={'page_label': '23', 'file_name': 'eBook-How-to-Build-a-Career-in-AI.pdf', 'file_path': 'eBook-How-to-Build-a-Career-in-AI.pdf', 'file_type': 'application/pdf', 'file_size': 3717673, 'creation_date': '2025-01-11', 'last_modified_date': '2025-01-09'}, hash='91155cc5e46f5665ab556bc2d3bddd568c5bcfbe89280a257d0a63d72a68682b')]}, metadata_template='{key}: {value}', metadata_separator='\\n', text='PAGE 23\\nEach project is only one step on a longer journey, hopefully one that has a positive impact. In addition:\\nDon’t worry about starting too small. One of my first machine learning research projects involved \\ntraining a neural network to see how well it could mimic the sin(x) function. It wasn’t very useful, but \\nwas a great learning experience that enabled me to move on to bigger projects.\\nBuilding a portfolio of projects, especially one \\nthat shows progress over time from simple to \\ncomplex undertakings, will be a big help when \\nit comes to looking for a job.\\nCommunication is key. You need to be able to explain your thinking if you want others to see \\nthe value in your work and trust you with resources that you can invest in larger projects. To get \\na project started, communicating the value of what you hope to build will help bring colleagues, \\nmentors, and managers onboard — and help them point out flaws in your reasoning. After you’ve \\nfinished, the ability to explain clearly what you accomplished will help convince others to open the \\ndoor to larger projects.\\nLeadership isn’t just for managers.  When you reach the point of working on larger AI projects that \\nrequire teamwork, your ability to lead projects will become more important, whether or not you are \\nin a formal position of leadership. Many of my friends have successfully pursued a technical rather \\nthan managerial career, and their ability to help steer a project by applying deep technical insights \\n— for example, when to invest in a new technical architecture or collect more data of a certain type \\n— allowed them to grow as leaders and also helped significantly improve the project.\\nBuilding a Portfolio of Projects That Shows Skill Progression CHAPTER 6', mimetype='text/plain', start_char_idx=0, end_char_idx=1749, metadata_seperator='\\n', text_template='{metadata_str}\\n\\n{content}'), score=0.6344424265531105), NodeWithScore(node=TextNode(id_='a1b38975-f391-4d91-9d39-c7cff6975a7e', embedding=None, metadata={'page_label': '29', 'file_name': 'eBook-How-to-Build-a-Career-in-AI.pdf', 'file_path': 'eBook-How-to-Build-a-Career-in-AI.pdf', 'file_type': 'application/pdf', 'file_size': 3717673, 'creation_date': '2025-01-11', 'last_modified_date': '2025-01-09'}, excluded_embed_metadata_keys=['file_name', 'file_type', 'file_size', 'creation_date', 'last_modified_date', 'last_accessed_date'], excluded_llm_metadata_keys=['file_name', 'file_type', 'file_size', 'creation_date', 'last_modified_date', 'last_accessed_date'], relationships={<NodeRelationship.SOURCE: '1'>: RelatedNodeInfo(node_id='abd269c0-6a03-4990-a5a3-1e9b23f60d24', node_type='4', metadata={'page_label': '29', 'file_name': 'eBook-How-to-Build-a-Career-in-AI.pdf', 'file_path': 'eBook-How-to-Build-a-Career-in-AI.pdf', 'file_type': 'application/pdf', 'file_size': 3717673, 'creation_date': '2025-01-11', 'last_modified_date': '2025-01-09'}, hash='00aad2d036c8f378c024706347c1f1756b1d246037cc8e76c7c6fcc04cacdc51'), <NodeRelationship.CHILD: '5'>: [RelatedNodeInfo(node_id='72407ea1-8910-4f56-a7f1-d197e0ccabb2', node_type='1', metadata={'page_label': '29', 'file_name': 'eBook-How-to-Build-a-Career-in-AI.pdf', 'file_path': 'eBook-How-to-Build-a-Career-in-AI.pdf', 'file_type': 'application/pdf', 'file_size': 3717673, 'creation_date': '2025-01-11', 'last_modified_date': '2025-01-09'}, hash='378db8547c574ea97ee35c2aa7b914dc661aa92b38512e1fd22b9435d678980d')]}, metadata_template='{key}: {value}', metadata_separator='\\n', text='PAGE 29\\nIf you’re preparing to switch roles (say, taking a job as a machine learning engineer for the first \\ntime) or industries (say, working in an AI tech company for the first time), there’s a lot about \\nyour target job that you probably don’t know. A technique known as informational interviewing \\nis a great way to learn.\\nAn informational interview involves finding someone in a company or role you’d like to know \\nmore about and informally interviewing them about their work. Such conversations are separate \\nfrom searching for a job. In fact, it’s helpful to interview people who hold positions that align \\nwith your interests well before you’re ready to kick off a job search.\\nPrepare for informational interviews by researching the interviewee and company in advance, \\nso you can arrive with thoughtful questions. You might ask:\\nInformational interviews are particularly relevant to AI. Because the field is evolving, many \\ncompanies use job titles in inconsistent ways. In one company, data scientists might be \\nexpected mainly to analyze business data and present conclusions on a slide deck. In \\nanother, they might write and maintain production code. An informational interview can help \\nyou sort out what the AI people in a particular company actually do.\\nWith the rapid expansion of opportunities in AI, many people will be taking on an AI job for \\nthe first time. In this case, an informational interview can be invaluable for learning what \\nhappens and what skills are needed to do the job well. For example, you can learn what \\nalgorithms, deployment processes, and software stacks a particular company uses. You \\nmay be surprised — if you’re not already familiar with the data-centric AI movement — to \\nlearn how much time most machine learning engineers spend iteratively cleaning datasets.\\n✓\\n✓\\nWhat do you do in a typical week or day?\\nWhat are the most important tasks in this role?\\nWhat skills are most important for success?\\nHow does your team work together to accomplish its goals?\\nWhat is the hiring process?\\nConsidering candidates who stood out in the past, what enabled them to shine?\\n✓\\n✓\\n✓\\n✓\\n✓\\n✓\\nUsing Informational Interviews to Find the Right Job CHAPTER 8', mimetype='text/plain', start_char_idx=0, end_char_idx=2186, metadata_seperator='\\n', text_template='{metadata_str}\\n\\n{content}'), score=0.6215313683567119), NodeWithScore(node=TextNode(id_='5525bda6-152c-480f-af18-0395aa5b00de', embedding=None, metadata={'page_label': '33', 'file_name': 'eBook-How-to-Build-a-Career-in-AI.pdf', 'file_path': 'eBook-How-to-Build-a-Career-in-AI.pdf', 'file_type': 'application/pdf', 'file_size': 3717673, 'creation_date': '2025-01-11', 'last_modified_date': '2025-01-09'}, excluded_embed_metadata_keys=['file_name', 'file_type', 'file_size', 'creation_date', 'last_modified_date', 'last_accessed_date'], excluded_llm_metadata_keys=['file_name', 'file_type', 'file_size', 'creation_date', 'last_modified_date', 'last_accessed_date'], relationships={<NodeRelationship.SOURCE: '1'>: RelatedNodeInfo(node_id='133e65a9-f6ff-4e8a-b138-a30651bf7f19', node_type='4', metadata={'page_label': '33', 'file_name': 'eBook-How-to-Build-a-Career-in-AI.pdf', 'file_path': 'eBook-How-to-Build-a-Career-in-AI.pdf', 'file_type': 'application/pdf', 'file_size': 3717673, 'creation_date': '2025-01-11', 'last_modified_date': '2025-01-09'}, hash='e2b711f47cb18d690a3b2716d403d066eed45870634f2e526167870170917126'), <NodeRelationship.CHILD: '5'>: [RelatedNodeInfo(node_id='6b5eaac9-937a-4362-b8df-a54218b4aa51', node_type='1', metadata={'page_label': '33', 'file_name': 'eBook-How-to-Build-a-Career-in-AI.pdf', 'file_path': 'eBook-How-to-Build-a-Career-in-AI.pdf', 'file_type': 'application/pdf', 'file_size': 3717673, 'creation_date': '2025-01-11', 'last_modified_date': '2025-01-09'}, hash='6f89019cd6861a7226075e5ba7ff239e65d108d71fb5d01e64affb78b4f2029d')]}, metadata_template='{key}: {value}', metadata_separator='\\n', text='PAGE 33\\nChoose who to work with. It’s tempting to take a position because of the projects you’ll work \\non. But the teammates you’ll work with are at least equally important. We’re influenced by \\npeople around us, so your colleagues will make a big difference. For example, if your friends \\nsmoke, the odds increase that you, too, will smoke. I don’t know of a study that shows this, \\nbut I’m pretty sure that if most of your colleagues work hard, learn continuously, and build AI \\nto benefit all people, you’re likely to do the same. (By the way, some large companies won’t \\ntell you who your teammates will be until you’ve accepted an offer. In this case, be persistent \\nand keep pushing to identify and speak with potential teammates. Strict policies may make it \\nimpossible to accommodate you, but in my mind, that increases the risk of accepting the offer, \\nas it increases the odds you’ll end up with a manager or teammates who aren’t a good fit.)\\nGet help from your community. Most of us go job hunting only a small number of times in our \\ncareers, so few of us get much practice at doing it well. Collectively, though, people in your \\nimmediate community probably have a lot of experience. Don’t be shy about calling on them. \\nFriends and associates can provide advice, share inside knowledge, and refer you to others \\nwho may help. I got a lot of help from supportive friends and mentors when I applied for my \\nfirst faculty position, and many of the tips they gave me were very helpful.\\nI know that the job-search process can be intimidating. Instead of viewing it as a great leap, \\nconsider an incremental approach. Start by identifying possible roles and conducting a handful \\nof informational interviews. If these conversations tell you that you have more learning to do \\nbefore you’re ready to apply, that’s great! At least you have a clear path forward. The most \\nimportant part of any journey is to take the first step, and that step can be a small one.\\nFinding the Right AI Job For You CHAPTER 9', mimetype='text/plain', start_char_idx=0, end_char_idx=2011, metadata_seperator='\\n', text_template='{metadata_str}\\n\\n{content}'), score=0.6134120175358092), NodeWithScore(node=TextNode(id_='7f403843-08b1-4f90-bbcb-095c02cf2eb5', embedding=None, metadata={'page_label': '27', 'file_name': 'eBook-How-to-Build-a-Career-in-AI.pdf', 'file_path': 'eBook-How-to-Build-a-Career-in-AI.pdf', 'file_type': 'application/pdf', 'file_size': 3717673, 'creation_date': '2025-01-11', 'last_modified_date': '2025-01-09'}, excluded_embed_metadata_keys=['file_name', 'file_type', 'file_size', 'creation_date', 'last_modified_date', 'last_accessed_date'], excluded_llm_metadata_keys=['file_name', 'file_type', 'file_size', 'creation_date', 'last_modified_date', 'last_accessed_date'], relationships={<NodeRelationship.SOURCE: '1'>: RelatedNodeInfo(node_id='bfa080ce-e5e6-47a9-bf09-e3815dc8e27a', node_type='4', metadata={'page_label': '27', 'file_name': 'eBook-How-to-Build-a-Career-in-AI.pdf', 'file_path': 'eBook-How-to-Build-a-Career-in-AI.pdf', 'file_type': 'application/pdf', 'file_size': 3717673, 'creation_date': '2025-01-11', 'last_modified_date': '2025-01-09'}, hash='251fd4dd0051f790eff5d7dd53f73bedcb345c33b83b122c2c0067299b7754aa'), <NodeRelationship.CHILD: '5'>: [RelatedNodeInfo(node_id='ed27de89-f3c8-418d-bd80-88260e6c738e', node_type='1', metadata={'page_label': '27', 'file_name': 'eBook-How-to-Build-a-Career-in-AI.pdf', 'file_path': 'eBook-How-to-Build-a-Career-in-AI.pdf', 'file_type': 'application/pdf', 'file_size': 3717673, 'creation_date': '2025-01-11', 'last_modified_date': '2025-01-09'}, hash='3bb151f0db8f845ddb2e47f0369360da44ff9371501977246ab6c157e954b842')]}, metadata_template='{key}: {value}', metadata_separator='\\n', text='PAGE 27\\nThere’s a lot we don’t know about the future: When will we cure Alzheimer’s disease? Who will \\nwin the next election? Or, in a business context, how many customers will we have next year?\\nWith so many changes going on in the world, many people are feeling stressed about the \\nfuture, especially when it comes to finding a job. I have a practice that helps me regain a sense \\nof control. Faced with uncertainty, I try to:\\nFor example, during the Covid-19 pandemic back in March 2020, I did this scenario planning \\nexercise. I imagined quick (three months), medium (one year), and slow (two years) recoveries \\nfrom Covid-19 and made plans for managing each case. These plans have helped me prioritize \\nwhere I can.\\nThe same method can apply to personal life, too. If you’re not sure you’ll pass an exam, get a \\njob offer, or be granted a visa — all of which can be stressful — you can write out what you’d \\ndo in each of the likely scenarios. Thinking through the possibilities and following through on \\nplans can help you navigate the future effectively no matter what it brings.\\nBonus: With training in AI and statistics, you can calculate a probability for each scenario. \\nI’m a fan of the Superforecasting methodology, in which the judgments of many experts are \\nsynthesized into a probability estimate. \\nOvercoming Uncertainty\\nMake a list of plausible scenarios, \\nacknowledging that I don’t know \\nwhich will come to pass.\\nCreate a plan of action \\nfor each scenario.\\nStart executing actions \\nthat seem reasonable.\\nReview scenarios and plans \\nperiodically as the future \\ncomes into focus.\\n1 2\\n3 4', mimetype='text/plain', start_char_idx=0, end_char_idx=1605, metadata_seperator='\\n', text_template='{metadata_str}\\n\\n{content}'), score=0.6122307879242082), NodeWithScore(node=TextNode(id_='b77838b9-b8c1-4c8d-ba7e-d23015c702ea', embedding=None, metadata={'page_label': '3', 'file_name': 'eBook-How-to-Build-a-Career-in-AI.pdf', 'file_path': 'eBook-How-to-Build-a-Career-in-AI.pdf', 'file_type': 'application/pdf', 'file_size': 3717673, 'creation_date': '2025-01-11', 'last_modified_date': '2025-01-09'}, excluded_embed_metadata_keys=['file_name', 'file_type', 'file_size', 'creation_date', 'last_modified_date', 'last_accessed_date'], excluded_llm_metadata_keys=['file_name', 'file_type', 'file_size', 'creation_date', 'last_modified_date', 'last_accessed_date'], relationships={<NodeRelationship.SOURCE: '1'>: RelatedNodeInfo(node_id='9955564f-fad7-48f1-88a1-876bde98d965', node_type='4', metadata={'page_label': '3', 'file_name': 'eBook-How-to-Build-a-Career-in-AI.pdf', 'file_path': 'eBook-How-to-Build-a-Career-in-AI.pdf', 'file_type': 'application/pdf', 'file_size': 3717673, 'creation_date': '2025-01-11', 'last_modified_date': '2025-01-09'}, hash='bbe162ae2af59049ff8d6c6267bcc0deb3342448724c84483efcf201bc2c175c'), <NodeRelationship.CHILD: '5'>: [RelatedNodeInfo(node_id='5bcf2f0b-eef0-4a5d-82d6-22a1cda07cf0', node_type='1', metadata={'page_label': '3', 'file_name': 'eBook-How-to-Build-a-Career-in-AI.pdf', 'file_path': 'eBook-How-to-Build-a-Career-in-AI.pdf', 'file_type': 'application/pdf', 'file_size': 3717673, 'creation_date': '2025-01-11', 'last_modified_date': '2025-01-09'}, hash='abf844f8815e671428714fbe2518625b27d77b49fccee2f51f211f13002571bf')]}, metadata_template='{key}: {value}', metadata_separator='\\n', text='PAGE 3\\nTable of \\nContents\\nIntroduction: Coding AI is the New Literacy.\\nChapter 1: Three Steps to Career Growth.\\nChapter 2: Learning Technical Skills for a \\nPromising AI Career.\\nChapter 3: Should You Learn Math to Get a Job \\nin AI?\\nChapter 4: Scoping Successful AI Projects.\\nChapter 5: Finding Projects that Complement \\nYour Career Goals.\\nChapter 6: Building a Portfolio of Projects that \\nShows Skill Progression.\\nChapter 7: A Simple Framework for Starting Your AI \\nJob Search.\\nChapter 8: Using Informational Interviews to Find \\nthe Right Job.\\nChapter 9: Finding the Right AI Job for You.\\nChapter 10: Keys to Building a Career in AI.\\nChapter 11: Overcoming Imposter Syndrome.\\nFinal Thoughts: Make Every Day Count.\\nLEARNING\\nPROJECTS\\nJOB', mimetype='text/plain', start_char_idx=0, end_char_idx=734, metadata_seperator='\\n', text_template='{metadata_str}\\n\\n{content}'), score=0.6111018856829566)], QueryBundle(query_str='In the context of project selection and execution, explain the difference between the \"Ready, Aim, Fire\" and \"Ready, Fire, Aim\" approaches. Provide examples where each approach might be more beneficial.', image_path=None, custom_embedding_strs=None, embedding=[-0.012468641623854637, 0.046670157462358475, 0.009735949337482452, -0.03896990418434143, 0.044657833874225616, 0.0077745188027620316, 0.03731531649827957, -0.0329585075378418, -0.01386626623570919, -0.03695371374487877, 0.0042763021774590015, -0.023708468303084373, -0.05516844615340233, 0.020636845380067825, 0.016353555023670197, 0.06976449489593506, -0.04971760883927345, -0.06460925936698914, 0.004527615383267403, 0.010709005407989025, 0.03448287770152092, -0.03362516313791275, 0.06106363236904144, -0.01384020410478115, 0.06935474276542664, 0.03837447613477707, 0.008383717387914658, -0.03867623209953308, 0.013609894551336765, -0.13529647886753082, -0.002849593758583069, 0.03090880624949932, 0.02146477811038494, -0.06186351925134659, -0.03243793174624443, 0.024771656841039658, 0.0025367767084389925, 0.04220819100737572, -0.05620260909199715, 0.002851022407412529, 0.031850170344114304, 0.06156656891107559, 0.015219041146337986, -0.05463950335979462, -0.061133623123168945, -0.002857490675523877, 0.046982068568468094, -0.05486111342906952, -0.06253112107515335, -0.01783367432653904, -0.03766080364584923, -0.0652131736278534, -0.06152445450425148, -0.009203631430864334, -0.0035383207723498344, 0.0015562495682388544, -0.028695372864603996, 0.07789161056280136, -0.02635473757982254, 0.04156811162829399, 0.025874657556414604, 0.003112796461209655, -0.16919760406017303, 0.10243102163076401, 0.06296432018280029, -0.005634586792439222, 0.006511477753520012, -0.017551753669977188, -0.017034973949193954, 0.10240084677934647, -0.017396530136466026, 0.033131904900074005, -0.01389173325151205, 0.037682078778743744, 0.01451553963124752, -0.031713612377643585, -0.0273139551281929, 0.01759640872478485, 0.06810205429792404, -0.04842180758714676, 0.04810011386871338, 0.04566563665866852, -0.030051585286855698, 0.01602131687104702, -0.020756252110004425, -0.002368557034060359, 0.010675471276044846, 0.0478488989174366, 0.09764816612005234, -0.010885168798267841, -0.003678243840113282, -0.03300028666853905, 0.0003613729204516858, 0.006377281155437231, -0.014471892267465591, -0.05836856737732887, 0.04217271879315376, 0.009762103669345379, -0.06013607978820801, 0.3299696147441864, -0.041665978729724884, -0.005520110484212637, 0.008014137856662273, 0.020160753279924393, 0.013096097856760025, -0.015698714181780815, -0.0021197148598730564, -0.024483846500515938, -0.00906221941113472, 0.0004922464722767472, 0.03506341576576233, -0.017591457813978195, 0.003230116330087185, -0.056273143738508224, -0.01895883120596409, -0.010447187349200249, 0.03686157241463661, -0.04211884364485741, 0.021959252655506134, -0.047342583537101746, 0.054844118654727936, -0.023059329017996788, 0.04412110522389412, -0.06555847823619843, -0.07317864149808884, -0.011995812878012657, 0.030720075592398643, 0.06959687173366547, -0.0034866919741034508, -0.036948010325431824, 0.05422830581665039, -0.011104553006589413, -0.07469552010297775, -0.028217583894729614, -0.015544838272035122, 0.05651082843542099, 0.0035314559936523438, 0.010648299939930439, -0.02964114211499691, 0.01899268850684166, 0.04663911461830139, 0.030394136905670166, 0.0647035613656044, -0.05120926350355148, -0.05144675821065903, 0.13821454346179962, -0.014492671005427837, 0.011351889930665493, -0.05271109938621521, 0.020173151046037674, -0.02156881056725979, 0.02603781409561634, 0.008206811733543873, -0.018304113298654556, -0.04062129557132721, 0.017643878236413002, -0.07657033950090408, -0.006150687113404274, 0.006023138761520386, -0.032291263341903687, -0.012877454981207848, 0.0031991919968277216, -0.04235498234629631, 0.0296605434268713, -0.023728733882308006, -0.07849056273698807, -0.017177047207951546, -0.0068365903571248055, -0.041152339428663254, -0.022827303037047386, -0.07970849424600601, -0.0010714707896113396, 0.009663073346018791, -0.04864883795380592, 0.031981583684682846, 0.0030847941525280476, -0.02727244794368744, -0.00849563255906105, 0.04737873002886772, 0.030850637704133987, 0.09090965241193771, -0.038623109459877014, 0.04593474790453911, 0.019261019304394722, 0.023019475862383842, -0.07064876705408096, -0.07953284680843353, 0.009268492460250854, 0.056078072637319565, 0.061346590518951416, -0.07060030102729797, 0.007697168737649918, 0.03995911404490471, 0.06210910901427269, -0.055296868085861206, 0.05692853778600693, 0.025826822966337204, -0.03029177337884903, -0.007859962992370129, -0.02718197926878929, 0.004005974158644676, 0.0878455713391304, -0.031519655138254166, -0.014889530837535858, -0.017070278525352478, 0.01705588586628437, 0.028558949008584023, -0.07806950062513351, 0.08668569475412369, -0.0011163171147927642, -0.12319254875183105, 0.04903459548950195, -0.008180362172424793, 0.018930017948150635, -0.02508298121392727, -0.023967621847987175, 0.02640947885811329, 0.05385651811957359, -0.08479159325361252, 0.07164591550827026, -0.011303246952593327, -0.011918491683900356, 0.08052235841751099, -0.2763381600379944, -0.027659066021442413, 0.0009787216549739242, -0.019999314099550247, 0.053243014961481094, -0.0072945598512887955, 0.002244721632450819, -0.04316198080778122, -0.06073172762989998, 0.028451822698116302, 0.07028015702962875, -0.0511920228600502, -0.0028423857875168324, 0.0010980976512655616, 0.0050619239918887615, -0.03100288100540638, -0.03271624445915222, -0.08230486512184143, -0.0239549670368433, 0.023332629352808, 0.011153453029692173, -0.016810627654194832, -0.018010614439845085, -0.04734205827116966, -0.00016682114801369607, 0.02419975958764553, 0.07995489984750748, -0.008189201354980469, 0.07526135444641113, -0.00602300139144063, 0.03815542161464691, 0.038673385977745056, -0.041591349989175797, -0.05327706038951874, 0.03095007874071598, -0.023439878597855568, 0.08687011897563934, 0.03125354275107384, -0.016097011044621468, -0.004262830596417189, 0.011455136351287365, 0.04737522825598717, 0.00016662973212078214, -0.0075897895731031895, -0.03021593764424324, 0.012461531907320023, -0.07693912088871002, -0.010791069827973843, -0.012145627290010452, 0.058482956141233444, 0.021230056881904602, 0.06707996129989624, -0.003944424446672201, -0.027962248772382736, -0.04467153549194336, 2.1071853097964777e-06, -0.12545344233512878, 0.03628169000148773, -0.01015265379101038, -0.005747965071350336, 0.036609455943107605, -0.016752639785408974, -0.0365881621837616, 0.026924729347229004, 0.04389101266860962, -0.019040921702980995, 0.009503934532403946, -0.043889231979846954, 0.003476586891338229, -0.006926096510142088, -0.022729920223355293, 0.08082141727209091, -0.03803294152021408, -0.051832545548677444, 0.01851806603372097, -0.01277443952858448, -0.02793503738939762, 0.002560508670285344, 0.02824924699962139, 0.03094291500747204, 0.026471830904483795, 0.013482315465807915, 0.03387441858649254, 0.018750231713056564, -0.014306728728115559, -0.029012922197580338, 0.06063335761427879, -0.026330316439270973, -0.007576393894851208, -0.007651467341929674, -0.030845748260617256, -0.0040736268274486065, 0.011186153627932072, -0.03365079313516617, 0.01645500399172306, -0.06623979657888412, -0.2704678773880005, 0.04341014847159386, 0.06528790295124054, 0.016363130882382393, -0.0107783954590559, -0.03826463222503662, 9.704699914436787e-05, -0.09461428225040436, -0.003969991579651833, 0.08243465423583984, 0.002023620530962944, -0.021271347999572754, -0.0015177484601736069, 0.03266996890306473, -0.04602765291929245, 0.037490151822566986, 0.12195325642824173, -0.03616682440042496, 0.03027961589396, -0.022155458107590675, 0.003845736151561141, -0.012961427681148052, 0.156653493642807, 0.003363794181495905, 0.05148701369762421, -0.027159137651324272, 0.020275983959436417, 0.022614702582359314, 0.019079839810729027, 0.04525933787226677, 0.06361179798841476, -0.02720358408987522, 0.07194843888282776, -0.01905871368944645, 0.013102062977850437, -0.0022177542559802532, 0.028777288272976875, 0.11578915268182755, 0.050593115389347076, 0.01669633388519287, -0.04320831596851349, 0.01850196160376072, 0.024498505517840385, 0.000617568613961339, 0.07143428921699524, -0.027047205716371536, -0.042252495884895325, -0.07354532182216644, -0.06937308609485626, -0.025304432958364487, -0.024401551112532616, -0.014874501153826714, -0.03952017426490784, 0.009508151561021805, 0.02019377239048481, 0.06418965756893158, -0.01969355344772339, -0.018419448286294937, -0.06216113269329071, 0.08988485485315323, 0.05571049079298973, 0.06070716679096222, 0.08150981366634369, 0.017709003761410713, -0.002613372402265668]))\n",
      "calling <function CompactAndRefine.get_response at 0x162730e50> with (<llama_index.core.response_synthesizers.compact_and_refine.CompactAndRefine object at 0x3be4050c0>,)\n",
      "calling <function Refine.get_response at 0x162730430> with (<llama_index.core.response_synthesizers.compact_and_refine.CompactAndRefine object at 0x3be4050c0>,)\n"
     ]
    }
   ],
   "source": [
    "run_evals(eval_questions, tru_recorder, auto_merging_engine_0)"
   ]
  },
  {
   "cell_type": "code",
   "execution_count": 48,
   "metadata": {},
   "outputs": [
    {
     "data": {
      "text/html": [
       "<div>\n",
       "<style scoped>\n",
       "    .dataframe tbody tr th:only-of-type {\n",
       "        vertical-align: middle;\n",
       "    }\n",
       "\n",
       "    .dataframe tbody tr th {\n",
       "        vertical-align: top;\n",
       "    }\n",
       "\n",
       "    .dataframe thead th {\n",
       "        text-align: right;\n",
       "    }\n",
       "</style>\n",
       "<table border=\"1\" class=\"dataframe\">\n",
       "  <thead>\n",
       "    <tr style=\"text-align: right;\">\n",
       "      <th></th>\n",
       "      <th></th>\n",
       "      <th>Answer Relevance</th>\n",
       "      <th>Context Relevance</th>\n",
       "      <th>Groundedness</th>\n",
       "      <th>latency</th>\n",
       "      <th>total_cost</th>\n",
       "    </tr>\n",
       "    <tr>\n",
       "      <th>app_name</th>\n",
       "      <th>app_version</th>\n",
       "      <th></th>\n",
       "      <th></th>\n",
       "      <th></th>\n",
       "      <th></th>\n",
       "      <th></th>\n",
       "    </tr>\n",
       "  </thead>\n",
       "  <tbody>\n",
       "    <tr>\n",
       "      <th>app_1</th>\n",
       "      <th>base</th>\n",
       "      <td>1.0</td>\n",
       "      <td>0.166667</td>\n",
       "      <td>0.875</td>\n",
       "      <td>24.842601</td>\n",
       "      <td>0.002373</td>\n",
       "    </tr>\n",
       "    <tr>\n",
       "      <th>app_0</th>\n",
       "      <th>base</th>\n",
       "      <td>1.0</td>\n",
       "      <td>0.166667</td>\n",
       "      <td>0.500</td>\n",
       "      <td>10.892550</td>\n",
       "      <td>0.004726</td>\n",
       "    </tr>\n",
       "  </tbody>\n",
       "</table>\n",
       "</div>"
      ],
      "text/plain": [
       "                      Answer Relevance  Context Relevance  Groundedness  \\\n",
       "app_name app_version                                                      \n",
       "app_1    base                      1.0           0.166667         0.875   \n",
       "app_0    base                      1.0           0.166667         0.500   \n",
       "\n",
       "                        latency  total_cost  \n",
       "app_name app_version                         \n",
       "app_1    base         24.842601    0.002373  \n",
       "app_0    base         10.892550    0.004726  "
      ]
     },
     "execution_count": 48,
     "metadata": {},
     "output_type": "execute_result"
    }
   ],
   "source": [
    "from trulens_eval import Tru\n",
    "\n",
    "Tru().get_leaderboard(app_ids=[])"
   ]
  },
  {
   "cell_type": "code",
   "execution_count": 40,
   "metadata": {},
   "outputs": [
    {
     "name": "stdout",
     "output_type": "stream",
     "text": [
      "Starting dashboard ...\n"
     ]
    },
    {
     "name": "stderr",
     "output_type": "stream",
     "text": [
      "huggingface/tokenizers: The current process just got forked, after parallelism has already been used. Disabling parallelism to avoid deadlocks...\n",
      "To disable this warning, you can either:\n",
      "\t- Avoid using `tokenizers` before the fork if possible\n",
      "\t- Explicitly set the environment variable TOKENIZERS_PARALLELISM=(true | false)\n"
     ]
    },
    {
     "data": {
      "application/vnd.jupyter.widget-view+json": {
       "model_id": "93a9b3d55bdf415198dbb46e737d7d9c",
       "version_major": 2,
       "version_minor": 0
      },
      "text/plain": [
       "Accordion(children=(VBox(children=(VBox(children=(Label(value='STDOUT'), Output())), VBox(children=(Label(valu…"
      ]
     },
     "metadata": {},
     "output_type": "display_data"
    },
    {
     "name": "stdout",
     "output_type": "stream",
     "text": [
      "Dashboard started at http://192.168.1.134:50509 .\n"
     ]
    },
    {
     "data": {
      "text/plain": [
       "<Popen: returncode: None args: ['streamlit', 'run', '--server.headless=True'...>"
      ]
     },
     "execution_count": 40,
     "metadata": {},
     "output_type": "execute_result"
    }
   ],
   "source": [
    "Tru().run_dashboard()"
   ]
  },
  {
   "cell_type": "markdown",
   "metadata": {},
   "source": [
    "### Three layers"
   ]
  },
  {
   "cell_type": "code",
   "execution_count": 42,
   "metadata": {},
   "outputs": [],
   "source": [
    "auto_merging_index_1 = build_automerging_index(\n",
    "    documents,\n",
    "    llm=OpenAI(model=\"gpt-3.5-turbo\", temperature=0.1),\n",
    "    embed_model_name=\"BAAI/bge-small-en-v1.5\",\n",
    "    save_dir=\"merging_index_1\",\n",
    "    chunk_sizes=[2048,512,128],\n",
    ")"
   ]
  },
  {
   "cell_type": "code",
   "execution_count": 43,
   "metadata": {},
   "outputs": [],
   "source": [
    "auto_merging_engine_1 = get_automerging_query_engine(\n",
    "    auto_merging_index_1,\n",
    "    similarity_top_k=12,\n",
    "    rerank_top_n=6,\n",
    ")\n"
   ]
  },
  {
   "cell_type": "code",
   "execution_count": 44,
   "metadata": {},
   "outputs": [
    {
     "name": "stdout",
     "output_type": "stream",
     "text": [
      "instrumenting <class 'llama_index.embeddings.huggingface.base.HuggingFaceEmbedding'> for base <class 'llama_index.embeddings.huggingface.base.HuggingFaceEmbedding'>\n",
      "instrumenting <class 'llama_index.embeddings.huggingface.base.HuggingFaceEmbedding'> for base <class 'llama_index.core.base.embeddings.base.BaseEmbedding'>\n",
      "instrumenting <class 'llama_index.embeddings.huggingface.base.HuggingFaceEmbedding'> for base <class 'llama_index.core.schema.TransformComponent'>\n",
      "instrumenting <class 'llama_index.embeddings.huggingface.base.HuggingFaceEmbedding'> for base <class 'llama_index.core.schema.BaseComponent'>\n",
      "instrumenting <class 'llama_index.embeddings.huggingface.base.HuggingFaceEmbedding'> for base <class 'pydantic.main.BaseModel'>\n",
      "instrumenting <class 'llama_index.embeddings.huggingface.base.HuggingFaceEmbedding'> for base <class 'llama_index.core.instrumentation.DispatcherSpanMixin'>\n",
      "instrumenting <class 'llama_index.embeddings.huggingface.base.HuggingFaceEmbedding'> for base <class 'abc.ABC'>\n",
      "instrumenting <class 'llama_index.embeddings.huggingface.base.HuggingFaceEmbedding'> for base <class 'object'>\n",
      "skipping base <class 'llama_index.core.callbacks.base.CallbackManager'> because of class\n",
      "instrumenting <class 'llama_index.core.callbacks.base.CallbackManager'> for base <class 'llama_index.core.callbacks.base_handler.BaseCallbackHandler'>\n",
      "instrumenting <class 'llama_index.core.callbacks.base.CallbackManager'> for base <class 'abc.ABC'>\n",
      "instrumenting <class 'llama_index.core.callbacks.base.CallbackManager'> for base <class 'object'>\n",
      "instrumenting <class 'llama_index.core.vector_stores.simple.SimpleVectorStore'> for base <class 'llama_index.core.vector_stores.simple.SimpleVectorStore'>\n",
      "instrumenting <class 'llama_index.core.vector_stores.simple.SimpleVectorStore'> for base <class 'llama_index.core.vector_stores.types.BasePydanticVectorStore'>\n",
      "instrumenting <class 'llama_index.core.vector_stores.simple.SimpleVectorStore'> for base <class 'llama_index.core.schema.BaseComponent'>\n",
      "instrumenting <class 'llama_index.core.vector_stores.simple.SimpleVectorStore'> for base <class 'pydantic.main.BaseModel'>\n",
      "instrumenting <class 'llama_index.core.vector_stores.simple.SimpleVectorStore'> for base <class 'abc.ABC'>\n",
      "instrumenting <class 'llama_index.core.vector_stores.simple.SimpleVectorStore'> for base <class 'object'>\n",
      "skipping base <class 'llama_index.core.vector_stores.simple.SimpleVectorStoreData'> because of class\n",
      "instrumenting <class 'llama_index.core.vector_stores.simple.SimpleVectorStoreData'> for base <class 'dataclasses_json.api.DataClassJsonMixin'>\n",
      "instrumenting <class 'llama_index.core.vector_stores.simple.SimpleVectorStoreData'> for base <class 'abc.ABC'>\n",
      "instrumenting <class 'llama_index.core.vector_stores.simple.SimpleVectorStoreData'> for base <class 'object'>\n",
      "instrumenting <class 'llama_index.core.indices.vector_store.base.VectorStoreIndex'> for base <class 'llama_index.core.indices.vector_store.base.VectorStoreIndex'>\n",
      "instrumenting <class 'llama_index.core.indices.vector_store.base.VectorStoreIndex'> for base <class 'llama_index.core.indices.base.BaseIndex'>\n",
      "instrumenting <class 'llama_index.core.indices.vector_store.base.VectorStoreIndex'> for base <class 'typing.Generic'>\n",
      "instrumenting <class 'llama_index.core.indices.vector_store.base.VectorStoreIndex'> for base <class 'abc.ABC'>\n",
      "instrumenting <class 'llama_index.core.indices.vector_store.base.VectorStoreIndex'> for base <class 'object'>\n",
      "skipping base <class 'llama_index.core.graph_stores.simple.SimpleGraphStore'> because of class\n",
      "instrumenting <class 'llama_index.core.graph_stores.simple.SimpleGraphStore'> for base <class 'llama_index.core.graph_stores.types.GraphStore'>\n",
      "instrumenting <class 'llama_index.core.graph_stores.simple.SimpleGraphStore'> for base <class 'typing.Protocol'>\n",
      "instrumenting <class 'llama_index.core.graph_stores.simple.SimpleGraphStore'> for base <class 'typing.Generic'>\n",
      "instrumenting <class 'llama_index.core.graph_stores.simple.SimpleGraphStore'> for base <class 'object'>\n",
      "instrumenting <class 'llama_index.core.node_parser.relational.hierarchical.HierarchicalNodeParser'> for base <class 'llama_index.core.node_parser.relational.hierarchical.HierarchicalNodeParser'>\n",
      "instrumenting <class 'llama_index.core.node_parser.relational.hierarchical.HierarchicalNodeParser'> for base <class 'llama_index.core.node_parser.interface.NodeParser'>\n",
      "instrumenting <class 'llama_index.core.node_parser.relational.hierarchical.HierarchicalNodeParser'> for base <class 'llama_index.core.schema.TransformComponent'>\n",
      "instrumenting <class 'llama_index.core.node_parser.relational.hierarchical.HierarchicalNodeParser'> for base <class 'llama_index.core.schema.BaseComponent'>\n",
      "instrumenting <class 'llama_index.core.node_parser.relational.hierarchical.HierarchicalNodeParser'> for base <class 'pydantic.main.BaseModel'>\n",
      "instrumenting <class 'llama_index.core.node_parser.relational.hierarchical.HierarchicalNodeParser'> for base <class 'llama_index.core.instrumentation.DispatcherSpanMixin'>\n",
      "instrumenting <class 'llama_index.core.node_parser.relational.hierarchical.HierarchicalNodeParser'> for base <class 'abc.ABC'>\n",
      "instrumenting <class 'llama_index.core.node_parser.relational.hierarchical.HierarchicalNodeParser'> for base <class 'object'>\n",
      "instrumenting <class 'llama_index.core.node_parser.text.sentence.SentenceSplitter'> for base <class 'llama_index.core.node_parser.text.sentence.SentenceSplitter'>\n",
      "instrumenting <class 'llama_index.core.node_parser.text.sentence.SentenceSplitter'> for base <class 'llama_index.core.node_parser.interface.MetadataAwareTextSplitter'>\n",
      "instrumenting <class 'llama_index.core.node_parser.text.sentence.SentenceSplitter'> for base <class 'llama_index.core.node_parser.interface.TextSplitter'>\n",
      "instrumenting <class 'llama_index.core.node_parser.text.sentence.SentenceSplitter'> for base <class 'llama_index.core.node_parser.interface.NodeParser'>\n",
      "instrumenting <class 'llama_index.core.node_parser.text.sentence.SentenceSplitter'> for base <class 'llama_index.core.schema.TransformComponent'>\n",
      "instrumenting <class 'llama_index.core.node_parser.text.sentence.SentenceSplitter'> for base <class 'llama_index.core.schema.BaseComponent'>\n",
      "instrumenting <class 'llama_index.core.node_parser.text.sentence.SentenceSplitter'> for base <class 'pydantic.main.BaseModel'>\n",
      "instrumenting <class 'llama_index.core.node_parser.text.sentence.SentenceSplitter'> for base <class 'llama_index.core.instrumentation.DispatcherSpanMixin'>\n",
      "instrumenting <class 'llama_index.core.node_parser.text.sentence.SentenceSplitter'> for base <class 'abc.ABC'>\n",
      "instrumenting <class 'llama_index.core.node_parser.text.sentence.SentenceSplitter'> for base <class 'object'>\n",
      "skipping base <class 'llama_index.core.callbacks.base.CallbackManager'> because of class\n",
      "instrumenting <class 'llama_index.core.callbacks.base.CallbackManager'> for base <class 'llama_index.core.callbacks.base_handler.BaseCallbackHandler'>\n",
      "instrumenting <class 'llama_index.core.callbacks.base.CallbackManager'> for base <class 'abc.ABC'>\n",
      "instrumenting <class 'llama_index.core.callbacks.base.CallbackManager'> for base <class 'object'>\n",
      "instrumenting <class 'llama_index.core.node_parser.text.sentence.SentenceSplitter'> for base <class 'llama_index.core.node_parser.text.sentence.SentenceSplitter'>\n",
      "instrumenting <class 'llama_index.core.node_parser.text.sentence.SentenceSplitter'> for base <class 'llama_index.core.node_parser.interface.MetadataAwareTextSplitter'>\n",
      "instrumenting <class 'llama_index.core.node_parser.text.sentence.SentenceSplitter'> for base <class 'llama_index.core.node_parser.interface.TextSplitter'>\n",
      "instrumenting <class 'llama_index.core.node_parser.text.sentence.SentenceSplitter'> for base <class 'llama_index.core.node_parser.interface.NodeParser'>\n",
      "instrumenting <class 'llama_index.core.node_parser.text.sentence.SentenceSplitter'> for base <class 'llama_index.core.schema.TransformComponent'>\n",
      "instrumenting <class 'llama_index.core.node_parser.text.sentence.SentenceSplitter'> for base <class 'llama_index.core.schema.BaseComponent'>\n",
      "instrumenting <class 'llama_index.core.node_parser.text.sentence.SentenceSplitter'> for base <class 'pydantic.main.BaseModel'>\n",
      "instrumenting <class 'llama_index.core.node_parser.text.sentence.SentenceSplitter'> for base <class 'llama_index.core.instrumentation.DispatcherSpanMixin'>\n",
      "instrumenting <class 'llama_index.core.node_parser.text.sentence.SentenceSplitter'> for base <class 'abc.ABC'>\n",
      "instrumenting <class 'llama_index.core.node_parser.text.sentence.SentenceSplitter'> for base <class 'object'>\n",
      "instrumenting <class 'llama_index.core.node_parser.text.sentence.SentenceSplitter'> for base <class 'llama_index.core.node_parser.text.sentence.SentenceSplitter'>\n",
      "instrumenting <class 'llama_index.core.node_parser.text.sentence.SentenceSplitter'> for base <class 'llama_index.core.node_parser.interface.MetadataAwareTextSplitter'>\n",
      "instrumenting <class 'llama_index.core.node_parser.text.sentence.SentenceSplitter'> for base <class 'llama_index.core.node_parser.interface.TextSplitter'>\n",
      "instrumenting <class 'llama_index.core.node_parser.text.sentence.SentenceSplitter'> for base <class 'llama_index.core.node_parser.interface.NodeParser'>\n",
      "instrumenting <class 'llama_index.core.node_parser.text.sentence.SentenceSplitter'> for base <class 'llama_index.core.schema.TransformComponent'>\n",
      "instrumenting <class 'llama_index.core.node_parser.text.sentence.SentenceSplitter'> for base <class 'llama_index.core.schema.BaseComponent'>\n",
      "instrumenting <class 'llama_index.core.node_parser.text.sentence.SentenceSplitter'> for base <class 'pydantic.main.BaseModel'>\n",
      "instrumenting <class 'llama_index.core.node_parser.text.sentence.SentenceSplitter'> for base <class 'llama_index.core.instrumentation.DispatcherSpanMixin'>\n",
      "instrumenting <class 'llama_index.core.node_parser.text.sentence.SentenceSplitter'> for base <class 'abc.ABC'>\n",
      "instrumenting <class 'llama_index.core.node_parser.text.sentence.SentenceSplitter'> for base <class 'object'>\n",
      "skipping base <class 'llama_index.core.storage.docstore.simple_docstore.SimpleDocumentStore'> because of class\n",
      "instrumenting <class 'llama_index.core.storage.docstore.simple_docstore.SimpleDocumentStore'> for base <class 'llama_index.core.storage.docstore.keyval_docstore.KVDocumentStore'>\n",
      "instrumenting <class 'llama_index.core.storage.docstore.simple_docstore.SimpleDocumentStore'> for base <class 'llama_index.core.storage.docstore.types.BaseDocumentStore'>\n",
      "instrumenting <class 'llama_index.core.storage.docstore.simple_docstore.SimpleDocumentStore'> for base <class 'abc.ABC'>\n",
      "instrumenting <class 'llama_index.core.storage.docstore.simple_docstore.SimpleDocumentStore'> for base <class 'object'>\n",
      "skipping base <class 'llama_index.core.data_structs.data_structs.IndexDict'> because of class\n",
      "instrumenting <class 'llama_index.core.data_structs.data_structs.IndexDict'> for base <class 'llama_index.core.data_structs.data_structs.IndexStruct'>\n",
      "instrumenting <class 'llama_index.core.data_structs.data_structs.IndexDict'> for base <class 'dataclasses_json.api.DataClassJsonMixin'>\n",
      "instrumenting <class 'llama_index.core.data_structs.data_structs.IndexDict'> for base <class 'abc.ABC'>\n",
      "instrumenting <class 'llama_index.core.data_structs.data_structs.IndexDict'> for base <class 'object'>\n",
      "skipping base <class 'llama_index.core.storage.storage_context.StorageContext'> because of class\n",
      "instrumenting <class 'llama_index.core.storage.storage_context.StorageContext'> for base <class 'object'>\n",
      "instrumenting <class 'llama_index.core.indices.vector_store.retrievers.retriever.VectorIndexRetriever'> for base <class 'llama_index.core.indices.vector_store.retrievers.retriever.VectorIndexRetriever'>\n",
      "\tinstrumenting retrieve\n",
      "\tinstrumenting _retrieve\n",
      "\tinstrumenting _aretrieve\n",
      "instrumenting <class 'llama_index.core.indices.vector_store.retrievers.retriever.VectorIndexRetriever'> for base <class 'llama_index.core.base.base_retriever.BaseRetriever'>\n",
      "\tinstrumenting retrieve\n",
      "\tinstrumenting _retrieve\n",
      "\tinstrumenting _aretrieve\n",
      "instrumenting <class 'llama_index.core.indices.vector_store.retrievers.retriever.VectorIndexRetriever'> for base <class 'llama_index.core.base.query_pipeline.query.ChainableMixin'>\n",
      "instrumenting <class 'llama_index.core.indices.vector_store.retrievers.retriever.VectorIndexRetriever'> for base <class 'llama_index.core.prompts.mixin.PromptMixin'>\n",
      "instrumenting <class 'llama_index.core.indices.vector_store.retrievers.retriever.VectorIndexRetriever'> for base <class 'llama_index.core.instrumentation.DispatcherSpanMixin'>\n",
      "instrumenting <class 'llama_index.core.indices.vector_store.retrievers.retriever.VectorIndexRetriever'> for base <class 'abc.ABC'>\n",
      "instrumenting <class 'llama_index.core.indices.vector_store.retrievers.retriever.VectorIndexRetriever'> for base <class 'object'>\n",
      "instrumenting <class 'llama_index.core.retrievers.auto_merging_retriever.AutoMergingRetriever'> for base <class 'llama_index.core.retrievers.auto_merging_retriever.AutoMergingRetriever'>\n",
      "\tinstrumenting retrieve\n",
      "\tinstrumenting _retrieve\n",
      "\tinstrumenting _aretrieve\n",
      "instrumenting <class 'llama_index.core.retrievers.auto_merging_retriever.AutoMergingRetriever'> for base <class 'llama_index.core.base.base_retriever.BaseRetriever'>\n",
      "\tinstrumenting retrieve\n",
      "\tinstrumenting _retrieve\n",
      "\tinstrumenting _aretrieve\n",
      "instrumenting <class 'llama_index.core.retrievers.auto_merging_retriever.AutoMergingRetriever'> for base <class 'llama_index.core.base.query_pipeline.query.ChainableMixin'>\n",
      "instrumenting <class 'llama_index.core.retrievers.auto_merging_retriever.AutoMergingRetriever'> for base <class 'llama_index.core.prompts.mixin.PromptMixin'>\n",
      "instrumenting <class 'llama_index.core.retrievers.auto_merging_retriever.AutoMergingRetriever'> for base <class 'llama_index.core.instrumentation.DispatcherSpanMixin'>\n",
      "instrumenting <class 'llama_index.core.retrievers.auto_merging_retriever.AutoMergingRetriever'> for base <class 'abc.ABC'>\n",
      "instrumenting <class 'llama_index.core.retrievers.auto_merging_retriever.AutoMergingRetriever'> for base <class 'object'>\n",
      "skipping base <class 'llama_index.core.callbacks.base.CallbackManager'> because of class\n",
      "instrumenting <class 'llama_index.core.callbacks.base.CallbackManager'> for base <class 'llama_index.core.callbacks.base_handler.BaseCallbackHandler'>\n",
      "instrumenting <class 'llama_index.core.callbacks.base.CallbackManager'> for base <class 'abc.ABC'>\n",
      "instrumenting <class 'llama_index.core.callbacks.base.CallbackManager'> for base <class 'object'>\n",
      "instrumenting <class 'llama_index.llms.openai.base.OpenAI'> for base <class 'llama_index.llms.openai.base.OpenAI'>\n",
      "instrumenting <class 'llama_index.llms.openai.base.OpenAI'> for base <class 'llama_index.core.llms.function_calling.FunctionCallingLLM'>\n",
      "instrumenting <class 'llama_index.llms.openai.base.OpenAI'> for base <class 'llama_index.core.llms.llm.LLM'>\n",
      "instrumenting <class 'llama_index.llms.openai.base.OpenAI'> for base <class 'llama_index.core.base.llms.base.BaseLLM'>\n",
      "instrumenting <class 'llama_index.llms.openai.base.OpenAI'> for base <class 'llama_index.core.base.query_pipeline.query.ChainableMixin'>\n",
      "instrumenting <class 'llama_index.llms.openai.base.OpenAI'> for base <class 'llama_index.core.schema.BaseComponent'>\n",
      "instrumenting <class 'llama_index.llms.openai.base.OpenAI'> for base <class 'pydantic.main.BaseModel'>\n",
      "instrumenting <class 'llama_index.llms.openai.base.OpenAI'> for base <class 'llama_index.core.instrumentation.DispatcherSpanMixin'>\n",
      "instrumenting <class 'llama_index.llms.openai.base.OpenAI'> for base <class 'abc.ABC'>\n",
      "instrumenting <class 'llama_index.llms.openai.base.OpenAI'> for base <class 'object'>\n",
      "instrumenting <class 'llama_index.core.base.llms.types.LLMMetadata'> for base <class 'llama_index.core.base.llms.types.LLMMetadata'>\n",
      "instrumenting <class 'llama_index.core.base.llms.types.LLMMetadata'> for base <class 'pydantic.main.BaseModel'>\n",
      "instrumenting <class 'llama_index.core.base.llms.types.LLMMetadata'> for base <class 'object'>\n",
      "instrumenting <class 'llama_index.core.indices.prompt_helper.PromptHelper'> for base <class 'llama_index.core.indices.prompt_helper.PromptHelper'>\n",
      "instrumenting <class 'llama_index.core.indices.prompt_helper.PromptHelper'> for base <class 'llama_index.core.schema.BaseComponent'>\n",
      "instrumenting <class 'llama_index.core.indices.prompt_helper.PromptHelper'> for base <class 'pydantic.main.BaseModel'>\n",
      "instrumenting <class 'llama_index.core.indices.prompt_helper.PromptHelper'> for base <class 'object'>\n",
      "instrumenting <class 'llama_index.core.response_synthesizers.compact_and_refine.CompactAndRefine'> for base <class 'llama_index.core.response_synthesizers.compact_and_refine.CompactAndRefine'>\n",
      "\tinstrumenting get_response\n",
      "instrumenting <class 'llama_index.core.response_synthesizers.compact_and_refine.CompactAndRefine'> for base <class 'llama_index.core.response_synthesizers.refine.Refine'>\n",
      "\tinstrumenting get_response\n",
      "instrumenting <class 'llama_index.core.response_synthesizers.compact_and_refine.CompactAndRefine'> for base <class 'llama_index.core.response_synthesizers.base.BaseSynthesizer'>\n",
      "\tinstrumenting get_response\n",
      "instrumenting <class 'llama_index.core.response_synthesizers.compact_and_refine.CompactAndRefine'> for base <class 'llama_index.core.base.query_pipeline.query.ChainableMixin'>\n",
      "instrumenting <class 'llama_index.core.response_synthesizers.compact_and_refine.CompactAndRefine'> for base <class 'llama_index.core.prompts.mixin.PromptMixin'>\n",
      "instrumenting <class 'llama_index.core.response_synthesizers.compact_and_refine.CompactAndRefine'> for base <class 'llama_index.core.instrumentation.DispatcherSpanMixin'>\n",
      "instrumenting <class 'llama_index.core.response_synthesizers.compact_and_refine.CompactAndRefine'> for base <class 'abc.ABC'>\n",
      "instrumenting <class 'llama_index.core.response_synthesizers.compact_and_refine.CompactAndRefine'> for base <class 'object'>\n",
      "skipping base <class 'llama_index.core.prompts.base.SelectorPromptTemplate'> because of class\n",
      "instrumenting <class 'llama_index.core.prompts.base.SelectorPromptTemplate'> for base <class 'llama_index.core.prompts.base.BasePromptTemplate'>\n",
      "instrumenting <class 'llama_index.core.prompts.base.SelectorPromptTemplate'> for base <class 'llama_index.core.base.query_pipeline.query.ChainableMixin'>\n",
      "instrumenting <class 'llama_index.core.prompts.base.SelectorPromptTemplate'> for base <class 'pydantic.main.BaseModel'>\n",
      "instrumenting <class 'llama_index.core.prompts.base.SelectorPromptTemplate'> for base <class 'abc.ABC'>\n",
      "instrumenting <class 'llama_index.core.prompts.base.SelectorPromptTemplate'> for base <class 'object'>\n",
      "skipping base <class 'llama_index.core.prompts.base.SelectorPromptTemplate'> because of class\n",
      "instrumenting <class 'llama_index.core.prompts.base.SelectorPromptTemplate'> for base <class 'llama_index.core.prompts.base.BasePromptTemplate'>\n",
      "instrumenting <class 'llama_index.core.prompts.base.SelectorPromptTemplate'> for base <class 'llama_index.core.base.query_pipeline.query.ChainableMixin'>\n",
      "instrumenting <class 'llama_index.core.prompts.base.SelectorPromptTemplate'> for base <class 'pydantic.main.BaseModel'>\n",
      "instrumenting <class 'llama_index.core.prompts.base.SelectorPromptTemplate'> for base <class 'abc.ABC'>\n",
      "instrumenting <class 'llama_index.core.prompts.base.SelectorPromptTemplate'> for base <class 'object'>\n",
      "instrumenting <class 'llama_index.core.query_engine.retriever_query_engine.RetrieverQueryEngine'> for base <class 'llama_index.core.query_engine.retriever_query_engine.RetrieverQueryEngine'>\n",
      "\tinstrumenting query\n",
      "\tinstrumenting aquery\n",
      "\tinstrumenting synthesize\n",
      "\tinstrumenting asynthesize\n",
      "\tinstrumenting retrieve\n",
      "instrumenting <class 'llama_index.core.query_engine.retriever_query_engine.RetrieverQueryEngine'> for base <class 'llama_index.core.base.base_query_engine.BaseQueryEngine'>\n",
      "\tinstrumenting query\n",
      "\tinstrumenting aquery\n",
      "\tinstrumenting synthesize\n",
      "\tinstrumenting asynthesize\n",
      "\tinstrumenting retrieve\n",
      "instrumenting <class 'llama_index.core.query_engine.retriever_query_engine.RetrieverQueryEngine'> for base <class 'llama_index.core.base.query_pipeline.query.ChainableMixin'>\n",
      "instrumenting <class 'llama_index.core.query_engine.retriever_query_engine.RetrieverQueryEngine'> for base <class 'llama_index.core.prompts.mixin.PromptMixin'>\n",
      "instrumenting <class 'llama_index.core.query_engine.retriever_query_engine.RetrieverQueryEngine'> for base <class 'llama_index.core.instrumentation.DispatcherSpanMixin'>\n",
      "instrumenting <class 'llama_index.core.query_engine.retriever_query_engine.RetrieverQueryEngine'> for base <class 'abc.ABC'>\n",
      "instrumenting <class 'llama_index.core.query_engine.retriever_query_engine.RetrieverQueryEngine'> for base <class 'object'>\n",
      "instrumenting <class 'llama_index.core.postprocessor.sbert_rerank.SentenceTransformerRerank'> for base <class 'llama_index.core.postprocessor.sbert_rerank.SentenceTransformerRerank'>\n",
      "\tinstrumenting _postprocess_nodes\n",
      "instrumenting <class 'llama_index.core.postprocessor.sbert_rerank.SentenceTransformerRerank'> for base <class 'llama_index.core.postprocessor.types.BaseNodePostprocessor'>\n",
      "\tinstrumenting _postprocess_nodes\n",
      "instrumenting <class 'llama_index.core.postprocessor.sbert_rerank.SentenceTransformerRerank'> for base <class 'llama_index.core.base.query_pipeline.query.ChainableMixin'>\n",
      "instrumenting <class 'llama_index.core.postprocessor.sbert_rerank.SentenceTransformerRerank'> for base <class 'llama_index.core.schema.BaseComponent'>\n",
      "instrumenting <class 'llama_index.core.postprocessor.sbert_rerank.SentenceTransformerRerank'> for base <class 'pydantic.main.BaseModel'>\n",
      "instrumenting <class 'llama_index.core.postprocessor.sbert_rerank.SentenceTransformerRerank'> for base <class 'llama_index.core.instrumentation.DispatcherSpanMixin'>\n",
      "instrumenting <class 'llama_index.core.postprocessor.sbert_rerank.SentenceTransformerRerank'> for base <class 'abc.ABC'>\n",
      "instrumenting <class 'llama_index.core.postprocessor.sbert_rerank.SentenceTransformerRerank'> for base <class 'object'>\n"
     ]
    }
   ],
   "source": [
    "tru_recorder = get_prebuilt_trulens_recorder(\n",
    "    auto_merging_engine_1,\n",
    "    app_id ='app_1'\n",
    ")"
   ]
  },
  {
   "cell_type": "code",
   "execution_count": 45,
   "metadata": {},
   "outputs": [
    {
     "name": "stdout",
     "output_type": "stream",
     "text": [
      "calling <function BaseQueryEngine.query at 0x162128ee0> with (<llama_index.core.query_engine.retriever_query_engine.RetrieverQueryEngine object at 0x3bd542200>, 'In the context of project selection and execution, explain the difference between the \"Ready, Aim, Fire\" and \"Ready, Fire, Aim\" approaches. Provide examples where each approach might be more beneficial.')\n",
      "calling <function RetrieverQueryEngine.retrieve at 0x1631963b0> with (<llama_index.core.query_engine.retriever_query_engine.RetrieverQueryEngine object at 0x3bd542200>, QueryBundle(query_str='In the context of project selection and execution, explain the difference between the \"Ready, Aim, Fire\" and \"Ready, Fire, Aim\" approaches. Provide examples where each approach might be more beneficial.', image_path=None, custom_embedding_strs=None, embedding=None))\n",
      "calling <function BaseRetriever.retrieve at 0x1624d12d0> with (<llama_index.core.retrievers.auto_merging_retriever.AutoMergingRetriever object at 0x3bd548e20>, QueryBundle(query_str='In the context of project selection and execution, explain the difference between the \"Ready, Aim, Fire\" and \"Ready, Fire, Aim\" approaches. Provide examples where each approach might be more beneficial.', image_path=None, custom_embedding_strs=None, embedding=None))\n",
      "calling <function AutoMergingRetriever._retrieve at 0x3242a2e60> with (<llama_index.core.retrievers.auto_merging_retriever.AutoMergingRetriever object at 0x3bd548e20>, QueryBundle(query_str='In the context of project selection and execution, explain the difference between the \"Ready, Aim, Fire\" and \"Ready, Fire, Aim\" approaches. Provide examples where each approach might be more beneficial.', image_path=None, custom_embedding_strs=None, embedding=None))\n",
      "calling <function BaseRetriever.retrieve at 0x1624d12d0> with (<llama_index.core.indices.vector_store.retrievers.retriever.VectorIndexRetriever object at 0x3ca6d2ef0>, QueryBundle(query_str='In the context of project selection and execution, explain the difference between the \"Ready, Aim, Fire\" and \"Ready, Fire, Aim\" approaches. Provide examples where each approach might be more beneficial.', image_path=None, custom_embedding_strs=None, embedding=None))\n",
      "calling <function VectorIndexRetriever._retrieve at 0x1629ecee0> with (<llama_index.core.indices.vector_store.retrievers.retriever.VectorIndexRetriever object at 0x3ca6d2ef0>, QueryBundle(query_str='In the context of project selection and execution, explain the difference between the \"Ready, Aim, Fire\" and \"Ready, Fire, Aim\" approaches. Provide examples where each approach might be more beneficial.', image_path=None, custom_embedding_strs=None, embedding=None))\n",
      "> Merging 4 nodes into parent node.\n",
      "> Parent node id: 62c35fdc-5761-4262-b67a-a642fae306b7.\n",
      "> Parent node text: PAGE 20\n",
      "Working on projects requires making tough choices about what to build and how to go \n",
      "abou...\n",
      "\n",
      "> Merging 2 nodes into parent node.\n",
      "> Parent node id: 89b1bbc5-c8f3-4cc9-a4de-b952e507916f.\n",
      "> Parent node text: But when committing to a direction means making a costly investment or entering a one-\n",
      "way door (...\n",
      "\n",
      "> Merging 2 nodes into parent node.\n",
      "> Parent node id: 3112b5fc-c8fb-4492-acd5-ea33ae23f84f.\n",
      "> Parent node text: PAGE 20\n",
      "Working on projects requires making tough choices about what to build and how to go \n",
      "abou...\n",
      "\n",
      "calling <function SentenceTransformerRerank._postprocess_nodes at 0x16274d240> with (SentenceTransformerRerank(callback_manager=<llama_index.core.callbacks.base.CallbackManager object at 0x16419bbb0>, model='BAAI/bge-reranker-base', top_n=6, device='mps', keep_retrieval_score=False, trust_remote_code=False), [NodeWithScore(node=TextNode(id_='353aed17-e9c1-4ebf-bed6-a93a0b9007d7', embedding=None, metadata={'page_label': '19', 'file_name': 'eBook-How-to-Build-a-Career-in-AI.pdf', 'file_path': 'eBook-How-to-Build-a-Career-in-AI.pdf', 'file_type': 'application/pdf', 'file_size': 3717673, 'creation_date': '2025-01-11', 'last_modified_date': '2025-01-09'}, excluded_embed_metadata_keys=['file_name', 'file_type', 'file_size', 'creation_date', 'last_modified_date', 'last_accessed_date'], excluded_llm_metadata_keys=['file_name', 'file_type', 'file_size', 'creation_date', 'last_modified_date', 'last_accessed_date'], relationships={<NodeRelationship.SOURCE: '1'>: RelatedNodeInfo(node_id='b1b14b2b-e936-4ffb-acac-af0400382f64', node_type='4', metadata={'page_label': '19', 'file_name': 'eBook-How-to-Build-a-Career-in-AI.pdf', 'file_path': 'eBook-How-to-Build-a-Career-in-AI.pdf', 'file_type': 'application/pdf', 'file_size': 3717673, 'creation_date': '2025-01-11', 'last_modified_date': '2025-01-09'}, hash='74f89a18cf6abf307fe2c0c7b3b287f205ca091b3d19726aceb51c2107945393'), <NodeRelationship.PREVIOUS: '2'>: RelatedNodeInfo(node_id='88206d80-06a4-468b-bfb9-dae81bdb340b', node_type='1', metadata={'page_label': '19', 'file_name': 'eBook-How-to-Build-a-Career-in-AI.pdf', 'file_path': 'eBook-How-to-Build-a-Career-in-AI.pdf', 'file_type': 'application/pdf', 'file_size': 3717673, 'creation_date': '2025-01-11', 'last_modified_date': '2025-01-09'}, hash='0ab103f1631f6339b83b6be9e6a97636390bde2bf203d578cdc270e04f210159'), <NodeRelationship.PARENT: '4'>: RelatedNodeInfo(node_id='e888b87c-bffb-4926-9979-36b8c0ca6f50', node_type='1', metadata={'page_label': '19', 'file_name': 'eBook-How-to-Build-a-Career-in-AI.pdf', 'file_path': 'eBook-How-to-Build-a-Career-in-AI.pdf', 'file_type': 'application/pdf', 'file_size': 3717673, 'creation_date': '2025-01-11', 'last_modified_date': '2025-01-09'}, hash='d3d98bd13d51083c8f054f9da8f89cee7712cc3e0841902ed66d0fb6ab25f5d6')}, metadata_template='{key}: {value}', metadata_separator='\\n', text='Given the huge number of possible AI projects, rather than the conventional “ready, \\naim, fire” approach, you can accelerate your progress with “ready, fire, aim.”\\nFinding Projects that Compliment Your Career Goals CHAPTER 5', mimetype='text/plain', start_char_idx=1889, end_char_idx=2113, metadata_seperator='\\n', text_template='{metadata_str}\\n\\n{content}'), score=0.7542267266169244), NodeWithScore(node=TextNode(id_='3112b5fc-c8fb-4492-acd5-ea33ae23f84f', embedding=None, metadata={'page_label': '20', 'file_name': 'eBook-How-to-Build-a-Career-in-AI.pdf', 'file_path': 'eBook-How-to-Build-a-Career-in-AI.pdf', 'file_type': 'application/pdf', 'file_size': 3717673, 'creation_date': '2025-01-11', 'last_modified_date': '2025-01-09'}, excluded_embed_metadata_keys=['file_name', 'file_type', 'file_size', 'creation_date', 'last_modified_date', 'last_accessed_date'], excluded_llm_metadata_keys=['file_name', 'file_type', 'file_size', 'creation_date', 'last_modified_date', 'last_accessed_date'], relationships={<NodeRelationship.SOURCE: '1'>: RelatedNodeInfo(node_id='69c78f78-b020-4294-8038-9c8ce1e9d980', node_type='4', metadata={'page_label': '20', 'file_name': 'eBook-How-to-Build-a-Career-in-AI.pdf', 'file_path': 'eBook-How-to-Build-a-Career-in-AI.pdf', 'file_type': 'application/pdf', 'file_size': 3717673, 'creation_date': '2025-01-11', 'last_modified_date': '2025-01-09'}, hash='84406ac1dbc40d76e542cb71f5ab08573ddcc32ba81c7343f83ec4b479617854'), <NodeRelationship.CHILD: '5'>: [RelatedNodeInfo(node_id='62c35fdc-5761-4262-b67a-a642fae306b7', node_type='1', metadata={'page_label': '20', 'file_name': 'eBook-How-to-Build-a-Career-in-AI.pdf', 'file_path': 'eBook-How-to-Build-a-Career-in-AI.pdf', 'file_type': 'application/pdf', 'file_size': 3717673, 'creation_date': '2025-01-11', 'last_modified_date': '2025-01-09'}, hash='8dacd1eb0e3adf49a89eac80577abacbffb475ba10802af2788c5fb409f2148f'), RelatedNodeInfo(node_id='89b1bbc5-c8f3-4cc9-a4de-b952e507916f', node_type='1', metadata={'page_label': '20', 'file_name': 'eBook-How-to-Build-a-Career-in-AI.pdf', 'file_path': 'eBook-How-to-Build-a-Career-in-AI.pdf', 'file_type': 'application/pdf', 'file_size': 3717673, 'creation_date': '2025-01-11', 'last_modified_date': '2025-01-09'}, hash='45ae8d179ef8b34265947874d7b2841fa12224634812e2f29a2769b53000527a')]}, metadata_template='{key}: {value}', metadata_separator='\\n', text='PAGE 20\\nWorking on projects requires making tough choices about what to build and how to go \\nabout it. Here are two distinct styles:\\nSay you’ve built a customer-service chatbot for retailers, and you think it could help restaurants, \\ntoo. Should you take time to study the restaurant market before starting development, moving \\nslowly but cutting the risk of wasting time and resources? Or jump in right away, moving \\nquickly and accepting a higher risk of pivoting or failing?\\nBoth approaches have their advocates, and the best choice depends on the situation.\\nReady, Aim, Fire tends to be superior when the cost of execution is high and a study can shed \\nlight on how useful or valuable a project could be. For example, if you can brainstorm a few \\nother use cases (restaurants, airlines, telcos, and so on) and evaluate these cases to identify \\nthe most promising one, it may be worth taking the extra time before committing to a direction.\\nReady, Fire, Aim tends to be better if you can execute at low cost and, in doing so, determine \\nwhether the direction is feasible and discover tweaks that will make it work. For example, if \\nyou can build a prototype quickly to figure out if users want the product, and if canceling or \\npivoting after a small amount of work is acceptable, then it makes sense to consider jumping \\nin quickly. When taking a shot is inexpensive, it also makes sense to take many shots. In this \\ncase, the process is actually Ready, Fire, Aim, Fire, Aim, Fire, Aim, Fire. \\nAfter agreeing upon a project direction, when it comes to building a machine learning model \\nthat’s part of the product, I have a bias toward Ready, Fire, Aim. Building models is an iterative \\nprocess. For many applications, the cost of training and conducting error analysis is not \\nprohibitive. Furthermore, it is very difficult to carry out a study that will shed light on the \\nappropriate model, data, and hyperparameters. So it makes sense to build an end-to-end \\nsystem quickly and revise it until it works well.\\nBut when committing to a direction means making a costly investment or entering a one-\\nway door (meaning a decision that’s hard to reverse), it’s often worth spending more time in \\nadvance to make sure it really is a good idea.\\nReady, Fire, Aim\\nReady, Aim, Fire: Plan carefully and carry out careful validation. Commit and \\nexecute only when you have a high degree of confidence in a direction.\\nReady, Fire, Aim: Jump into development and start executing. This allows you to \\ndiscover problems quickly and pivot along the way if necessary.\\n✓\\n✓', mimetype='text/plain', start_char_idx=0, end_char_idx=2560, metadata_seperator='\\n', text_template='{metadata_str}\\n\\n{content}'), score=0.7403443413523442), NodeWithScore(node=TextNode(id_='09e5a85d-78fe-4ce5-b638-73962a3f54a3', embedding=None, metadata={'page_label': '7', 'file_name': 'eBook-How-to-Build-a-Career-in-AI.pdf', 'file_path': 'eBook-How-to-Build-a-Career-in-AI.pdf', 'file_type': 'application/pdf', 'file_size': 3717673, 'creation_date': '2025-01-11', 'last_modified_date': '2025-01-09'}, excluded_embed_metadata_keys=['file_name', 'file_type', 'file_size', 'creation_date', 'last_modified_date', 'last_accessed_date'], excluded_llm_metadata_keys=['file_name', 'file_type', 'file_size', 'creation_date', 'last_modified_date', 'last_accessed_date'], relationships={<NodeRelationship.SOURCE: '1'>: RelatedNodeInfo(node_id='1fd5b75b-05d4-4737-9c47-52deaa69cc38', node_type='4', metadata={'page_label': '7', 'file_name': 'eBook-How-to-Build-a-Career-in-AI.pdf', 'file_path': 'eBook-How-to-Build-a-Career-in-AI.pdf', 'file_type': 'application/pdf', 'file_size': 3717673, 'creation_date': '2025-01-11', 'last_modified_date': '2025-01-09'}, hash='7d0b9a05656661d97cf1a4cad37c165433eaf193d12f6ff2357b905f1a836d6c'), <NodeRelationship.PREVIOUS: '2'>: RelatedNodeInfo(node_id='f154f5bc-2c67-4616-bd5b-75f90acbe320', node_type='1', metadata={'page_label': '7', 'file_name': 'eBook-How-to-Build-a-Career-in-AI.pdf', 'file_path': 'eBook-How-to-Build-a-Career-in-AI.pdf', 'file_type': 'application/pdf', 'file_size': 3717673, 'creation_date': '2025-01-11', 'last_modified_date': '2025-01-09'}, hash='4ed3db4f9de346a98b3092c8dd8004fb70cb06bbb011f81c250bdba75d1ec474'), <NodeRelationship.PARENT: '4'>: RelatedNodeInfo(node_id='78055d24-34f4-4607-a824-ba31a67bd973', node_type='1', metadata={'page_label': '7', 'file_name': 'eBook-How-to-Build-a-Career-in-AI.pdf', 'file_path': 'eBook-How-to-Build-a-Career-in-AI.pdf', 'file_type': 'application/pdf', 'file_size': 3717673, 'creation_date': '2025-01-11', 'last_modified_date': '2025-01-09'}, hash='531c4fb21d74fd9d83b6a93d1a18abbc8ea35e08919ef53a72b6d239dcb804e3')}, metadata_template='{key}: {value}', metadata_separator='\\n', text='Even after the system has hit the target, further iteration may \\nbe necessary to address post-deployment drift.\\nWorking on projects often means collaborating with \\nstakeholders who lack expertise in AI:\\nWhile searching for a job in AI can be similar to searching for a job in \\nother sectors, there are also important differences. Many companies are \\nstill trying to figure out which AI skills they need, and how to hire people \\nwho have them.', mimetype='text/plain', start_char_idx=894, end_char_idx=1336, metadata_seperator='\\n', text_template='{metadata_str}\\n\\n{content}'), score=0.6687414906021555), NodeWithScore(node=TextNode(id_='71edb052-1a8b-40ba-b414-f13a6753c881', embedding=None, metadata={'page_label': '22', 'file_name': 'eBook-How-to-Build-a-Career-in-AI.pdf', 'file_path': 'eBook-How-to-Build-a-Career-in-AI.pdf', 'file_type': 'application/pdf', 'file_size': 3717673, 'creation_date': '2025-01-11', 'last_modified_date': '2025-01-09'}, excluded_embed_metadata_keys=['file_name', 'file_type', 'file_size', 'creation_date', 'last_modified_date', 'last_accessed_date'], excluded_llm_metadata_keys=['file_name', 'file_type', 'file_size', 'creation_date', 'last_modified_date', 'last_accessed_date'], relationships={<NodeRelationship.SOURCE: '1'>: RelatedNodeInfo(node_id='ca081370-3e06-448f-bf6a-82e90bfde7e9', node_type='4', metadata={'page_label': '22', 'file_name': 'eBook-How-to-Build-a-Career-in-AI.pdf', 'file_path': 'eBook-How-to-Build-a-Career-in-AI.pdf', 'file_type': 'application/pdf', 'file_size': 3717673, 'creation_date': '2025-01-11', 'last_modified_date': '2025-01-09'}, hash='15c0c71c983b564f2d8293e7f35fe9739910d44b04e18785b536a93c640f7b4e'), <NodeRelationship.PREVIOUS: '2'>: RelatedNodeInfo(node_id='9e60575f-45f8-49b2-ad5a-792aace3da6d', node_type='1', metadata={'page_label': '22', 'file_name': 'eBook-How-to-Build-a-Career-in-AI.pdf', 'file_path': 'eBook-How-to-Build-a-Career-in-AI.pdf', 'file_type': 'application/pdf', 'file_size': 3717673, 'creation_date': '2025-01-11', 'last_modified_date': '2025-01-09'}, hash='b956dc7acc953ec50d3fdde8b8bea440805dfc73853f0dc3c92ac26cc0816072'), <NodeRelationship.PARENT: '4'>: RelatedNodeInfo(node_id='5e92cf25-2777-46de-aaf8-39a69a5dfe47', node_type='1', metadata={'page_label': '22', 'file_name': 'eBook-How-to-Build-a-Career-in-AI.pdf', 'file_path': 'eBook-How-to-Build-a-Career-in-AI.pdf', 'file_type': 'application/pdf', 'file_size': 3717673, 'creation_date': '2025-01-11', 'last_modified_date': '2025-01-09'}, hash='228c3dfb068efcb152ecdc0d4d72cba974e08f0226ded3da5fad012e6bc86f37')}, metadata_template='{key}: {value}', metadata_separator='\\n', text='Successes build on each other, opening the door to \\nmore technical growth, more resources, and increasingly \\nsignificant project opportunities.\\n1. Class projects:\\n3. Creating value\\n2. Personal projects\\n4. Rising scope and complexity\\nBuilding a Portfolio of Projects That Shows Skill Progression CHAPTER 6', mimetype='text/plain', start_char_idx=1130, end_char_idx=1434, metadata_seperator='\\n', text_template='{metadata_str}\\n\\n{content}'), score=0.65951809035789), NodeWithScore(node=TextNode(id_='462ed040-61b1-492f-b119-3489cbb77a3e', embedding=None, metadata={'page_label': '15', 'file_name': 'eBook-How-to-Build-a-Career-in-AI.pdf', 'file_path': 'eBook-How-to-Build-a-Career-in-AI.pdf', 'file_type': 'application/pdf', 'file_size': 3717673, 'creation_date': '2025-01-11', 'last_modified_date': '2025-01-09'}, excluded_embed_metadata_keys=['file_name', 'file_type', 'file_size', 'creation_date', 'last_modified_date', 'last_accessed_date'], excluded_llm_metadata_keys=['file_name', 'file_type', 'file_size', 'creation_date', 'last_modified_date', 'last_accessed_date'], relationships={<NodeRelationship.SOURCE: '1'>: RelatedNodeInfo(node_id='adcfe99c-b890-439d-bcb4-b53da2a37964', node_type='4', metadata={'page_label': '15', 'file_name': 'eBook-How-to-Build-a-Career-in-AI.pdf', 'file_path': 'eBook-How-to-Build-a-Career-in-AI.pdf', 'file_type': 'application/pdf', 'file_size': 3717673, 'creation_date': '2025-01-11', 'last_modified_date': '2025-01-09'}, hash='418a896e650d00c49e10a566833e2e2ade4a186458d75230bce9592ddf126671'), <NodeRelationship.PREVIOUS: '2'>: RelatedNodeInfo(node_id='3055e6b3-b6f1-4bb6-b157-a11378dfbe58', node_type='1', metadata={'page_label': '15', 'file_name': 'eBook-How-to-Build-a-Career-in-AI.pdf', 'file_path': 'eBook-How-to-Build-a-Career-in-AI.pdf', 'file_type': 'application/pdf', 'file_size': 3717673, 'creation_date': '2025-01-11', 'last_modified_date': '2025-01-09'}, hash='b9a41e135ea677748fef4eadcf1544ecda01ade12c931e9cefbf6eeafc8c2ba2'), <NodeRelationship.PARENT: '4'>: RelatedNodeInfo(node_id='4a37dbf5-5107-472c-bf94-7a9e5713dc6f', node_type='1', metadata={'page_label': '15', 'file_name': 'eBook-How-to-Build-a-Career-in-AI.pdf', 'file_path': 'eBook-How-to-Build-a-Career-in-AI.pdf', 'file_type': 'application/pdf', 'file_size': 3717673, 'creation_date': '2025-01-11', 'last_modified_date': '2025-01-09'}, hash='e73d6c3d4ff7d7ceae1d43ad73e2a2d4a7d101d2bc17b92911884eb77e93eded')}, metadata_template='{key}: {value}', metadata_separator='\\n', text='When I was younger, I used to \\nexecute on the first idea I was excited about. Sometimes \\nthis worked out okay, but sometimes I ended up missing \\nan even better idea that might not have taken any more \\neffort to build. Once you understand a problem, you can \\nbrainstorm potential solutions more efficiently.', mimetype='text/plain', start_char_idx=973, end_char_idx=1279, metadata_seperator='\\n', text_template='{metadata_str}\\n\\n{content}'), score=0.6530075916673015), NodeWithScore(node=TextNode(id_='8a7ce3cc-ab55-45cf-a5d6-5139af54952e', embedding=None, metadata={'page_label': '22', 'file_name': 'eBook-How-to-Build-a-Career-in-AI.pdf', 'file_path': 'eBook-How-to-Build-a-Career-in-AI.pdf', 'file_type': 'application/pdf', 'file_size': 3717673, 'creation_date': '2025-01-11', 'last_modified_date': '2025-01-09'}, excluded_embed_metadata_keys=['file_name', 'file_type', 'file_size', 'creation_date', 'last_modified_date', 'last_accessed_date'], excluded_llm_metadata_keys=['file_name', 'file_type', 'file_size', 'creation_date', 'last_modified_date', 'last_accessed_date'], relationships={<NodeRelationship.SOURCE: '1'>: RelatedNodeInfo(node_id='ca081370-3e06-448f-bf6a-82e90bfde7e9', node_type='4', metadata={'page_label': '22', 'file_name': 'eBook-How-to-Build-a-Career-in-AI.pdf', 'file_path': 'eBook-How-to-Build-a-Career-in-AI.pdf', 'file_type': 'application/pdf', 'file_size': 3717673, 'creation_date': '2025-01-11', 'last_modified_date': '2025-01-09'}, hash='15c0c71c983b564f2d8293e7f35fe9739910d44b04e18785b536a93c640f7b4e'), <NodeRelationship.PARENT: '4'>: RelatedNodeInfo(node_id='5e92cf25-2777-46de-aaf8-39a69a5dfe47', node_type='1', metadata={'page_label': '22', 'file_name': 'eBook-How-to-Build-a-Career-in-AI.pdf', 'file_path': 'eBook-How-to-Build-a-Career-in-AI.pdf', 'file_type': 'application/pdf', 'file_size': 3717673, 'creation_date': '2025-01-11', 'last_modified_date': '2025-01-09'}, hash='228c3dfb068efcb152ecdc0d4d72cba974e08f0226ded3da5fad012e6bc86f37')}, metadata_template='{key}: {value}', metadata_separator='\\n', text='PAGE 22\\nOver the course of a career, you’re likely to work on projects in succession, each growing in \\nscope and complexity. For example:\\nThe first few projects might be narrowly scoped \\nhomework assignments with predetermined right \\nanswers. These are often great learning experiences!\\nEventually, you will gain enough skill to build projects in \\nwhich others see more tangible value. This opens the door \\nto more resources.', mimetype='text/plain', start_char_idx=0, end_char_idx=425, metadata_seperator='\\n', text_template='{metadata_str}\\n\\n{content}'), score=0.6516947391244572), NodeWithScore(node=TextNode(id_='e438a139-1a57-476d-9c92-304c634c3241', embedding=None, metadata={'page_label': '18', 'file_name': 'eBook-How-to-Build-a-Career-in-AI.pdf', 'file_path': 'eBook-How-to-Build-a-Career-in-AI.pdf', 'file_type': 'application/pdf', 'file_size': 3717673, 'creation_date': '2025-01-11', 'last_modified_date': '2025-01-09'}, excluded_embed_metadata_keys=['file_name', 'file_type', 'file_size', 'creation_date', 'last_modified_date', 'last_accessed_date'], excluded_llm_metadata_keys=['file_name', 'file_type', 'file_size', 'creation_date', 'last_modified_date', 'last_accessed_date'], relationships={<NodeRelationship.SOURCE: '1'>: RelatedNodeInfo(node_id='123153fc-6df0-49c4-aca4-99a32d9941ba', node_type='4', metadata={'page_label': '18', 'file_name': 'eBook-How-to-Build-a-Career-in-AI.pdf', 'file_path': 'eBook-How-to-Build-a-Career-in-AI.pdf', 'file_type': 'application/pdf', 'file_size': 3717673, 'creation_date': '2025-01-11', 'last_modified_date': '2025-01-09'}, hash='920e880169609d53c0819382b25651a7ef4fc0125c2547e538ee85e0469399ca'), <NodeRelationship.PARENT: '4'>: RelatedNodeInfo(node_id='130a4d90-b17b-4d77-b151-355211e73805', node_type='1', metadata={'page_label': '18', 'file_name': 'eBook-How-to-Build-a-Career-in-AI.pdf', 'file_path': 'eBook-How-to-Build-a-Career-in-AI.pdf', 'file_type': 'application/pdf', 'file_size': 3717673, 'creation_date': '2025-01-11', 'last_modified_date': '2025-01-09'}, hash='5d0434cd1d71d6ea80d846630dd17e1f21b13f6a57adbe05c24ba4cd899ccf2a')}, metadata_template='{key}: {value}', metadata_separator='\\n', text='PAGE 18\\nIt goes without saying that we should only work on projects that are responsible, ethical, and \\nbeneficial to people. But those limits leave a large variety to choose from. In the previous chapter, \\nI wrote about how to identify and scope AI projects. This chapter and the next have a slightly \\ndifferent emphasis: picking and executing projects with an eye toward career development.\\nA fruitful career will include many projects, hopefully growing in scope, complexity, and impact \\nover time.', mimetype='text/plain', start_char_idx=0, end_char_idx=501, metadata_seperator='\\n', text_template='{metadata_str}\\n\\n{content}'), score=0.6515190111949525)], QueryBundle(query_str='In the context of project selection and execution, explain the difference between the \"Ready, Aim, Fire\" and \"Ready, Fire, Aim\" approaches. Provide examples where each approach might be more beneficial.', image_path=None, custom_embedding_strs=None, embedding=[-0.012468641623854637, 0.046670157462358475, 0.009735949337482452, -0.03896990418434143, 0.044657833874225616, 0.0077745188027620316, 0.03731531649827957, -0.0329585075378418, -0.01386626623570919, -0.03695371374487877, 0.0042763021774590015, -0.023708468303084373, -0.05516844615340233, 0.020636845380067825, 0.016353555023670197, 0.06976449489593506, -0.04971760883927345, -0.06460925936698914, 0.004527615383267403, 0.010709005407989025, 0.03448287770152092, -0.03362516313791275, 0.06106363236904144, -0.01384020410478115, 0.06935474276542664, 0.03837447613477707, 0.008383717387914658, -0.03867623209953308, 0.013609894551336765, -0.13529647886753082, -0.002849593758583069, 0.03090880624949932, 0.02146477811038494, -0.06186351925134659, -0.03243793174624443, 0.024771656841039658, 0.0025367767084389925, 0.04220819100737572, -0.05620260909199715, 0.002851022407412529, 0.031850170344114304, 0.06156656891107559, 0.015219041146337986, -0.05463950335979462, -0.061133623123168945, -0.002857490675523877, 0.046982068568468094, -0.05486111342906952, -0.06253112107515335, -0.01783367432653904, -0.03766080364584923, -0.0652131736278534, -0.06152445450425148, -0.009203631430864334, -0.0035383207723498344, 0.0015562495682388544, -0.028695372864603996, 0.07789161056280136, -0.02635473757982254, 0.04156811162829399, 0.025874657556414604, 0.003112796461209655, -0.16919760406017303, 0.10243102163076401, 0.06296432018280029, -0.005634586792439222, 0.006511477753520012, -0.017551753669977188, -0.017034973949193954, 0.10240084677934647, -0.017396530136466026, 0.033131904900074005, -0.01389173325151205, 0.037682078778743744, 0.01451553963124752, -0.031713612377643585, -0.0273139551281929, 0.01759640872478485, 0.06810205429792404, -0.04842180758714676, 0.04810011386871338, 0.04566563665866852, -0.030051585286855698, 0.01602131687104702, -0.020756252110004425, -0.002368557034060359, 0.010675471276044846, 0.0478488989174366, 0.09764816612005234, -0.010885168798267841, -0.003678243840113282, -0.03300028666853905, 0.0003613729204516858, 0.006377281155437231, -0.014471892267465591, -0.05836856737732887, 0.04217271879315376, 0.009762103669345379, -0.06013607978820801, 0.3299696147441864, -0.041665978729724884, -0.005520110484212637, 0.008014137856662273, 0.020160753279924393, 0.013096097856760025, -0.015698714181780815, -0.0021197148598730564, -0.024483846500515938, -0.00906221941113472, 0.0004922464722767472, 0.03506341576576233, -0.017591457813978195, 0.003230116330087185, -0.056273143738508224, -0.01895883120596409, -0.010447187349200249, 0.03686157241463661, -0.04211884364485741, 0.021959252655506134, -0.047342583537101746, 0.054844118654727936, -0.023059329017996788, 0.04412110522389412, -0.06555847823619843, -0.07317864149808884, -0.011995812878012657, 0.030720075592398643, 0.06959687173366547, -0.0034866919741034508, -0.036948010325431824, 0.05422830581665039, -0.011104553006589413, -0.07469552010297775, -0.028217583894729614, -0.015544838272035122, 0.05651082843542099, 0.0035314559936523438, 0.010648299939930439, -0.02964114211499691, 0.01899268850684166, 0.04663911461830139, 0.030394136905670166, 0.0647035613656044, -0.05120926350355148, -0.05144675821065903, 0.13821454346179962, -0.014492671005427837, 0.011351889930665493, -0.05271109938621521, 0.020173151046037674, -0.02156881056725979, 0.02603781409561634, 0.008206811733543873, -0.018304113298654556, -0.04062129557132721, 0.017643878236413002, -0.07657033950090408, -0.006150687113404274, 0.006023138761520386, -0.032291263341903687, -0.012877454981207848, 0.0031991919968277216, -0.04235498234629631, 0.0296605434268713, -0.023728733882308006, -0.07849056273698807, -0.017177047207951546, -0.0068365903571248055, -0.041152339428663254, -0.022827303037047386, -0.07970849424600601, -0.0010714707896113396, 0.009663073346018791, -0.04864883795380592, 0.031981583684682846, 0.0030847941525280476, -0.02727244794368744, -0.00849563255906105, 0.04737873002886772, 0.030850637704133987, 0.09090965241193771, -0.038623109459877014, 0.04593474790453911, 0.019261019304394722, 0.023019475862383842, -0.07064876705408096, -0.07953284680843353, 0.009268492460250854, 0.056078072637319565, 0.061346590518951416, -0.07060030102729797, 0.007697168737649918, 0.03995911404490471, 0.06210910901427269, -0.055296868085861206, 0.05692853778600693, 0.025826822966337204, -0.03029177337884903, -0.007859962992370129, -0.02718197926878929, 0.004005974158644676, 0.0878455713391304, -0.031519655138254166, -0.014889530837535858, -0.017070278525352478, 0.01705588586628437, 0.028558949008584023, -0.07806950062513351, 0.08668569475412369, -0.0011163171147927642, -0.12319254875183105, 0.04903459548950195, -0.008180362172424793, 0.018930017948150635, -0.02508298121392727, -0.023967621847987175, 0.02640947885811329, 0.05385651811957359, -0.08479159325361252, 0.07164591550827026, -0.011303246952593327, -0.011918491683900356, 0.08052235841751099, -0.2763381600379944, -0.027659066021442413, 0.0009787216549739242, -0.019999314099550247, 0.053243014961481094, -0.0072945598512887955, 0.002244721632450819, -0.04316198080778122, -0.06073172762989998, 0.028451822698116302, 0.07028015702962875, -0.0511920228600502, -0.0028423857875168324, 0.0010980976512655616, 0.0050619239918887615, -0.03100288100540638, -0.03271624445915222, -0.08230486512184143, -0.0239549670368433, 0.023332629352808, 0.011153453029692173, -0.016810627654194832, -0.018010614439845085, -0.04734205827116966, -0.00016682114801369607, 0.02419975958764553, 0.07995489984750748, -0.008189201354980469, 0.07526135444641113, -0.00602300139144063, 0.03815542161464691, 0.038673385977745056, -0.041591349989175797, -0.05327706038951874, 0.03095007874071598, -0.023439878597855568, 0.08687011897563934, 0.03125354275107384, -0.016097011044621468, -0.004262830596417189, 0.011455136351287365, 0.04737522825598717, 0.00016662973212078214, -0.0075897895731031895, -0.03021593764424324, 0.012461531907320023, -0.07693912088871002, -0.010791069827973843, -0.012145627290010452, 0.058482956141233444, 0.021230056881904602, 0.06707996129989624, -0.003944424446672201, -0.027962248772382736, -0.04467153549194336, 2.1071853097964777e-06, -0.12545344233512878, 0.03628169000148773, -0.01015265379101038, -0.005747965071350336, 0.036609455943107605, -0.016752639785408974, -0.0365881621837616, 0.026924729347229004, 0.04389101266860962, -0.019040921702980995, 0.009503934532403946, -0.043889231979846954, 0.003476586891338229, -0.006926096510142088, -0.022729920223355293, 0.08082141727209091, -0.03803294152021408, -0.051832545548677444, 0.01851806603372097, -0.01277443952858448, -0.02793503738939762, 0.002560508670285344, 0.02824924699962139, 0.03094291500747204, 0.026471830904483795, 0.013482315465807915, 0.03387441858649254, 0.018750231713056564, -0.014306728728115559, -0.029012922197580338, 0.06063335761427879, -0.026330316439270973, -0.007576393894851208, -0.007651467341929674, -0.030845748260617256, -0.0040736268274486065, 0.011186153627932072, -0.03365079313516617, 0.01645500399172306, -0.06623979657888412, -0.2704678773880005, 0.04341014847159386, 0.06528790295124054, 0.016363130882382393, -0.0107783954590559, -0.03826463222503662, 9.704699914436787e-05, -0.09461428225040436, -0.003969991579651833, 0.08243465423583984, 0.002023620530962944, -0.021271347999572754, -0.0015177484601736069, 0.03266996890306473, -0.04602765291929245, 0.037490151822566986, 0.12195325642824173, -0.03616682440042496, 0.03027961589396, -0.022155458107590675, 0.003845736151561141, -0.012961427681148052, 0.156653493642807, 0.003363794181495905, 0.05148701369762421, -0.027159137651324272, 0.020275983959436417, 0.022614702582359314, 0.019079839810729027, 0.04525933787226677, 0.06361179798841476, -0.02720358408987522, 0.07194843888282776, -0.01905871368944645, 0.013102062977850437, -0.0022177542559802532, 0.028777288272976875, 0.11578915268182755, 0.050593115389347076, 0.01669633388519287, -0.04320831596851349, 0.01850196160376072, 0.024498505517840385, 0.000617568613961339, 0.07143428921699524, -0.027047205716371536, -0.042252495884895325, -0.07354532182216644, -0.06937308609485626, -0.025304432958364487, -0.024401551112532616, -0.014874501153826714, -0.03952017426490784, 0.009508151561021805, 0.02019377239048481, 0.06418965756893158, -0.01969355344772339, -0.018419448286294937, -0.06216113269329071, 0.08988485485315323, 0.05571049079298973, 0.06070716679096222, 0.08150981366634369, 0.017709003761410713, -0.002613372402265668]))\n",
      "calling <function CompactAndRefine.get_response at 0x162730e50> with (<llama_index.core.response_synthesizers.compact_and_refine.CompactAndRefine object at 0x3bd541ab0>,)\n",
      "calling <function Refine.get_response at 0x162730430> with (<llama_index.core.response_synthesizers.compact_and_refine.CompactAndRefine object at 0x3bd541ab0>,)\n"
     ]
    }
   ],
   "source": [
    "run_evals(eval_questions, tru_recorder, auto_merging_engine_1)"
   ]
  },
  {
   "cell_type": "code",
   "execution_count": 46,
   "metadata": {},
   "outputs": [
    {
     "data": {
      "text/html": [
       "<div>\n",
       "<style scoped>\n",
       "    .dataframe tbody tr th:only-of-type {\n",
       "        vertical-align: middle;\n",
       "    }\n",
       "\n",
       "    .dataframe tbody tr th {\n",
       "        vertical-align: top;\n",
       "    }\n",
       "\n",
       "    .dataframe thead th {\n",
       "        text-align: right;\n",
       "    }\n",
       "</style>\n",
       "<table border=\"1\" class=\"dataframe\">\n",
       "  <thead>\n",
       "    <tr style=\"text-align: right;\">\n",
       "      <th></th>\n",
       "      <th></th>\n",
       "      <th>Answer Relevance</th>\n",
       "      <th>Context Relevance</th>\n",
       "      <th>Groundedness</th>\n",
       "      <th>latency</th>\n",
       "      <th>total_cost</th>\n",
       "    </tr>\n",
       "    <tr>\n",
       "      <th>app_name</th>\n",
       "      <th>app_version</th>\n",
       "      <th></th>\n",
       "      <th></th>\n",
       "      <th></th>\n",
       "      <th></th>\n",
       "      <th></th>\n",
       "    </tr>\n",
       "  </thead>\n",
       "  <tbody>\n",
       "    <tr>\n",
       "      <th>app_0</th>\n",
       "      <th>base</th>\n",
       "      <td>1.0</td>\n",
       "      <td>0.166667</td>\n",
       "      <td>0.5</td>\n",
       "      <td>10.892550</td>\n",
       "      <td>0.004726</td>\n",
       "    </tr>\n",
       "    <tr>\n",
       "      <th>app_1</th>\n",
       "      <th>base</th>\n",
       "      <td>NaN</td>\n",
       "      <td>NaN</td>\n",
       "      <td>NaN</td>\n",
       "      <td>24.842601</td>\n",
       "      <td>0.002373</td>\n",
       "    </tr>\n",
       "  </tbody>\n",
       "</table>\n",
       "</div>"
      ],
      "text/plain": [
       "                      Answer Relevance  Context Relevance  Groundedness  \\\n",
       "app_name app_version                                                      \n",
       "app_0    base                      1.0           0.166667           0.5   \n",
       "app_1    base                      NaN                NaN           NaN   \n",
       "\n",
       "                        latency  total_cost  \n",
       "app_name app_version                         \n",
       "app_0    base         10.892550    0.004726  \n",
       "app_1    base         24.842601    0.002373  "
      ]
     },
     "execution_count": 46,
     "metadata": {},
     "output_type": "execute_result"
    }
   ],
   "source": [
    "from trulens_eval import Tru\n",
    "\n",
    "Tru().get_leaderboard(app_ids=[])"
   ]
  },
  {
   "cell_type": "code",
   "execution_count": 47,
   "metadata": {},
   "outputs": [
    {
     "name": "stdout",
     "output_type": "stream",
     "text": [
      "Starting dashboard ...\n",
      "Dashboard already running at path:   Network URL: http://192.168.1.134:50509\n",
      "\n"
     ]
    },
    {
     "data": {
      "text/plain": [
       "<Popen: returncode: None args: ['streamlit', 'run', '--server.headless=True'...>"
      ]
     },
     "execution_count": 47,
     "metadata": {},
     "output_type": "execute_result"
    }
   ],
   "source": [
    "Tru().run_dashboard()"
   ]
  },
  {
   "cell_type": "code",
   "execution_count": null,
   "metadata": {},
   "outputs": [],
   "source": []
  }
 ],
 "metadata": {
  "kernelspec": {
   "display_name": "base",
   "language": "python",
   "name": "python3"
  },
  "language_info": {
   "codemirror_mode": {
    "name": "ipython",
    "version": 3
   },
   "file_extension": ".py",
   "mimetype": "text/x-python",
   "name": "python",
   "nbconvert_exporter": "python",
   "pygments_lexer": "ipython3",
   "version": "3.10.0"
  }
 },
 "nbformat": 4,
 "nbformat_minor": 2
}
